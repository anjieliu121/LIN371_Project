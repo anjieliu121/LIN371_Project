{
 "cells": [
  {
   "cell_type": "markdown",
   "metadata": {
    "id": "1dsaXd8NHGEK"
   },
   "source": [
    "# Part 1: Native Language Identification (Multi-class)"
   ]
  },
  {
   "cell_type": "markdown",
   "metadata": {
    "id": "kMp8CjT1JXeQ"
   },
   "source": [
    "The goal is to train a neural network on the Cambridge FCE dataset to predict the native language of the author of some text. This will be a classification task: the six languages/countries we focus on are Chinese (China), French (France), German (Germany), Greek (Greece), Portuguese (Portugal), and Spanish (Spain).\n",
    "\n",
    "We mainly compare two methods: neural network and logistic regression.\n",
    "\n",
    "For the neural network, instead of feeding in the raw documents directly into the neural network, we want to use BERT embeddings as the input.\n",
    "\n",
    "We will compare the neural network's performance with a \"simpler\" model: logistic regression, with various different combinations of input features and parameters.\n",
    "\n",
    "More information about the dataset can be found in the GitHub repo.\n",
    "\n",
    "**Acknowledgement: Much of the base code is from LIN 371 lecture demos, Fall 2024, Jessy Li & Hongli Zhan.**"
   ]
  },
  {
   "cell_type": "markdown",
   "metadata": {
    "id": "4ImbCiO6DbyA"
   },
   "source": [
    "## Libraries, Data, and connecting to GPU"
   ]
  },
  {
   "cell_type": "code",
   "metadata": {
    "colab": {
     "base_uri": "https://localhost:8080/"
    },
    "id": "6gia3BU7HBq0",
    "outputId": "f8e1467a-058b-43f1-d4d1-6070d14cd4bb",
    "ExecuteTime": {
     "end_time": "2024-12-13T15:59:08.008999Z",
     "start_time": "2024-12-13T15:59:08.003247Z"
    }
   },
   "source": [
    "#from google.colab import drive\n",
    "#drive.mount('/content/drive')"
   ],
   "outputs": [],
   "execution_count": 166
  },
  {
   "cell_type": "code",
   "metadata": {
    "id": "dDCidcUy07Kd",
    "ExecuteTime": {
     "end_time": "2024-12-13T15:59:08.021116Z",
     "start_time": "2024-12-13T15:59:08.018686Z"
    }
   },
   "source": [
    "import os\n",
    "os.environ[\"CUDA_VISIBLE_DEVICES\"]=\"0,1,2,3\""
   ],
   "outputs": [],
   "execution_count": 167
  },
  {
   "cell_type": "code",
   "metadata": {
    "id": "vKEW_lW0KrZU",
    "ExecuteTime": {
     "end_time": "2024-12-13T15:59:08.047358Z",
     "start_time": "2024-12-13T15:59:08.044368Z"
    }
   },
   "source": [
    "### Import relevant libraries\n",
    "\n",
    "import numpy as np\n",
    "import pandas as pd\n",
    "import random\n",
    "from tqdm import tqdm\n",
    "\n",
    "# Pytorch\n",
    "import torch\n",
    "import torch.nn as nn\n",
    "import torch.nn.functional as f\n",
    "import torch.optim as optim\n",
    "from torch.utils.data import DataLoader, TensorDataset\n",
    "\n",
    "# BERT\n",
    "from transformers import BertTokenizer, BertModel\n",
    "\n",
    "# sklearn\n",
    "from sklearn.metrics import f1_score\n",
    "from sklearn.datasets import load_files\n",
    "from sklearn.metrics import classification_report\n",
    "from sklearn.model_selection import train_test_split"
   ],
   "outputs": [],
   "execution_count": 168
  },
  {
   "cell_type": "markdown",
   "source": [
    "Previously, we made a one-hot encoded version of the data where our desired outcome variable (native language) was transformed into a one-hot vector. The one-hot encoding is necessary for multi-class classification. (https://machinelearningmastery.com/building-a-multiclass-classification-model-in-pytorch/)"
   ],
   "metadata": {
    "id": "ijcEOLClzgmD"
   }
  },
  {
   "cell_type": "code",
   "metadata": {
    "id": "egcLWBjFaxx9",
    "ExecuteTime": {
     "end_time": "2024-12-13T15:59:08.077589Z",
     "start_time": "2024-12-13T15:59:08.060528Z"
    }
   },
   "source": [
    "# Load data\n",
    "\n",
    "#data = pd.read_csv(\"/content/drive/MyDrive/Colab Notebooks/LIN 371/Project/fce_6languages.csv\")\n",
    "data = pd.read_csv(\"data/fce_6languages.csv\")\n",
    "data = data.dropna()\n",
    "\n",
    "### For testing only to ensure model works before running on larger dataset\n",
    "# data = data.sample(frac=0.1)"
   ],
   "outputs": [],
   "execution_count": 169
  },
  {
   "cell_type": "code",
   "metadata": {
    "colab": {
     "base_uri": "https://localhost:8080/",
     "height": 355
    },
    "id": "ORKZYne4HVv9",
    "outputId": "e4d43669-ea27-421d-85ce-e7f6e7e1620b",
    "ExecuteTime": {
     "end_time": "2024-12-13T15:59:08.097550Z",
     "start_time": "2024-12-13T15:59:08.091415Z"
    }
   },
   "source": [
    "# Take a look at the FCE dataset\n",
    "\n",
    "print(data.shape)\n",
    "data.head()"
   ],
   "outputs": [
    {
     "name": "stdout",
     "output_type": "stream",
     "text": [
      "(1228, 90)\n"
     ]
    },
    {
     "data": {
      "text/plain": [
       "                filename native_language  Chinese  French  German  Greek  \\\n",
       "0   0100_2000_6/doc2.xml         Chinese     True   False   False  False   \n",
       "1   0100_2000_6/doc2.xml         Chinese     True   False   False  False   \n",
       "2   0100_2000_6/doc4.xml         Chinese     True   False   False  False   \n",
       "3   0100_2000_6/doc4.xml         Chinese     True   False   False  False   \n",
       "4  0100_2000_6/doc24.xml         Spanish    False   False   False  False   \n",
       "\n",
       "   Portuguese  Spanish    age  total_score  ... UJ UN UP UQ  UT  UV  UY  W  X  \\\n",
       "0       False    False  16-20         24.0  ...  0  0  0  0   1   0   0  0  0   \n",
       "1       False    False  16-20         24.0  ...  0  0  0  1   0   1   0  0  0   \n",
       "2       False    False  21-25         17.0  ...  0  2  1  0   3   2   0  1  0   \n",
       "3       False    False  21-25         17.0  ...  0  0  5  0   3   1   0  0  0   \n",
       "4       False     True  16-20         32.0  ...  0  0  0  0   0   0   1  0  0   \n",
       "\n",
       "   unknown  \n",
       "0        0  \n",
       "1        0  \n",
       "2        0  \n",
       "3        0  \n",
       "4        0  \n",
       "\n",
       "[5 rows x 90 columns]"
      ],
      "text/html": [
       "<div>\n",
       "<style scoped>\n",
       "    .dataframe tbody tr th:only-of-type {\n",
       "        vertical-align: middle;\n",
       "    }\n",
       "\n",
       "    .dataframe tbody tr th {\n",
       "        vertical-align: top;\n",
       "    }\n",
       "\n",
       "    .dataframe thead th {\n",
       "        text-align: right;\n",
       "    }\n",
       "</style>\n",
       "<table border=\"1\" class=\"dataframe\">\n",
       "  <thead>\n",
       "    <tr style=\"text-align: right;\">\n",
       "      <th></th>\n",
       "      <th>filename</th>\n",
       "      <th>native_language</th>\n",
       "      <th>Chinese</th>\n",
       "      <th>French</th>\n",
       "      <th>German</th>\n",
       "      <th>Greek</th>\n",
       "      <th>Portuguese</th>\n",
       "      <th>Spanish</th>\n",
       "      <th>age</th>\n",
       "      <th>total_score</th>\n",
       "      <th>...</th>\n",
       "      <th>UJ</th>\n",
       "      <th>UN</th>\n",
       "      <th>UP</th>\n",
       "      <th>UQ</th>\n",
       "      <th>UT</th>\n",
       "      <th>UV</th>\n",
       "      <th>UY</th>\n",
       "      <th>W</th>\n",
       "      <th>X</th>\n",
       "      <th>unknown</th>\n",
       "    </tr>\n",
       "  </thead>\n",
       "  <tbody>\n",
       "    <tr>\n",
       "      <th>0</th>\n",
       "      <td>0100_2000_6/doc2.xml</td>\n",
       "      <td>Chinese</td>\n",
       "      <td>True</td>\n",
       "      <td>False</td>\n",
       "      <td>False</td>\n",
       "      <td>False</td>\n",
       "      <td>False</td>\n",
       "      <td>False</td>\n",
       "      <td>16-20</td>\n",
       "      <td>24.0</td>\n",
       "      <td>...</td>\n",
       "      <td>0</td>\n",
       "      <td>0</td>\n",
       "      <td>0</td>\n",
       "      <td>0</td>\n",
       "      <td>1</td>\n",
       "      <td>0</td>\n",
       "      <td>0</td>\n",
       "      <td>0</td>\n",
       "      <td>0</td>\n",
       "      <td>0</td>\n",
       "    </tr>\n",
       "    <tr>\n",
       "      <th>1</th>\n",
       "      <td>0100_2000_6/doc2.xml</td>\n",
       "      <td>Chinese</td>\n",
       "      <td>True</td>\n",
       "      <td>False</td>\n",
       "      <td>False</td>\n",
       "      <td>False</td>\n",
       "      <td>False</td>\n",
       "      <td>False</td>\n",
       "      <td>16-20</td>\n",
       "      <td>24.0</td>\n",
       "      <td>...</td>\n",
       "      <td>0</td>\n",
       "      <td>0</td>\n",
       "      <td>0</td>\n",
       "      <td>1</td>\n",
       "      <td>0</td>\n",
       "      <td>1</td>\n",
       "      <td>0</td>\n",
       "      <td>0</td>\n",
       "      <td>0</td>\n",
       "      <td>0</td>\n",
       "    </tr>\n",
       "    <tr>\n",
       "      <th>2</th>\n",
       "      <td>0100_2000_6/doc4.xml</td>\n",
       "      <td>Chinese</td>\n",
       "      <td>True</td>\n",
       "      <td>False</td>\n",
       "      <td>False</td>\n",
       "      <td>False</td>\n",
       "      <td>False</td>\n",
       "      <td>False</td>\n",
       "      <td>21-25</td>\n",
       "      <td>17.0</td>\n",
       "      <td>...</td>\n",
       "      <td>0</td>\n",
       "      <td>2</td>\n",
       "      <td>1</td>\n",
       "      <td>0</td>\n",
       "      <td>3</td>\n",
       "      <td>2</td>\n",
       "      <td>0</td>\n",
       "      <td>1</td>\n",
       "      <td>0</td>\n",
       "      <td>0</td>\n",
       "    </tr>\n",
       "    <tr>\n",
       "      <th>3</th>\n",
       "      <td>0100_2000_6/doc4.xml</td>\n",
       "      <td>Chinese</td>\n",
       "      <td>True</td>\n",
       "      <td>False</td>\n",
       "      <td>False</td>\n",
       "      <td>False</td>\n",
       "      <td>False</td>\n",
       "      <td>False</td>\n",
       "      <td>21-25</td>\n",
       "      <td>17.0</td>\n",
       "      <td>...</td>\n",
       "      <td>0</td>\n",
       "      <td>0</td>\n",
       "      <td>5</td>\n",
       "      <td>0</td>\n",
       "      <td>3</td>\n",
       "      <td>1</td>\n",
       "      <td>0</td>\n",
       "      <td>0</td>\n",
       "      <td>0</td>\n",
       "      <td>0</td>\n",
       "    </tr>\n",
       "    <tr>\n",
       "      <th>4</th>\n",
       "      <td>0100_2000_6/doc24.xml</td>\n",
       "      <td>Spanish</td>\n",
       "      <td>False</td>\n",
       "      <td>False</td>\n",
       "      <td>False</td>\n",
       "      <td>False</td>\n",
       "      <td>False</td>\n",
       "      <td>True</td>\n",
       "      <td>16-20</td>\n",
       "      <td>32.0</td>\n",
       "      <td>...</td>\n",
       "      <td>0</td>\n",
       "      <td>0</td>\n",
       "      <td>0</td>\n",
       "      <td>0</td>\n",
       "      <td>0</td>\n",
       "      <td>0</td>\n",
       "      <td>1</td>\n",
       "      <td>0</td>\n",
       "      <td>0</td>\n",
       "      <td>0</td>\n",
       "    </tr>\n",
       "  </tbody>\n",
       "</table>\n",
       "<p>5 rows × 90 columns</p>\n",
       "</div>"
      ]
     },
     "execution_count": 170,
     "metadata": {},
     "output_type": "execute_result"
    }
   ],
   "execution_count": 170
  },
  {
   "cell_type": "markdown",
   "metadata": {
    "id": "RpwiYk66HdOM"
   },
   "source": [
    "There are 1228 rows and 90 columns. Each row represents a unique example in the dataset, where the writer's native language was one of Chinese, French, German, Greek, Portuguese, or Spanish.\n",
    "\n",
    "The relevant columns are `answer` (the text output by the author), the columns from `Chinese` to `Spanish`, which is the one-hot encoding of the `native_language` column, and the `native_language` column itself.\n",
    "\n",
    "The rest of the columns are other features of the authors like their age, score on the exam, and frequency of mistakes made, which we will not be looking at in this part."
   ]
  },
  {
   "cell_type": "code",
   "source": [
    "# Helper dictionary to decode index to label\n",
    "\n",
    "decode_l1 = {0:\"Chinese\", 1:\"French\", 2:\"German\", 3:\"Greek\", 4:\"Portuguese\", 5:\"Spanish\"}\n",
    "encode_l1 = {v: k for k, v in decode_l1.items()}\n",
    "lang_list = [\"Chinese\", \"French\", \"German\", \"Greek\", \"Portuguese\", \"Spanish\"]"
   ],
   "metadata": {
    "id": "j_NU4h2FEYOc",
    "ExecuteTime": {
     "end_time": "2024-12-13T15:59:08.140657Z",
     "start_time": "2024-12-13T15:59:08.138783Z"
    }
   },
   "outputs": [],
   "execution_count": 171
  },
  {
   "cell_type": "markdown",
   "metadata": {
    "id": "-a1trh_DTg7t"
   },
   "source": [
    "Because the task is complex, we need to connect to one of the GPUs offered (for free) by Google Colab, which has better parallel computing capabilities."
   ]
  },
  {
   "cell_type": "code",
   "metadata": {
    "id": "lDB3N-YiToRw",
    "ExecuteTime": {
     "end_time": "2024-12-13T15:59:08.182271Z",
     "start_time": "2024-12-13T15:59:08.180026Z"
    }
   },
   "source": [
    "use_cuda = torch.cuda.is_available()\n",
    "device = torch.device(\"cuda\" if use_cuda else \"cpu\")"
   ],
   "outputs": [],
   "execution_count": 172
  },
  {
   "cell_type": "markdown",
   "metadata": {
    "id": "rA3TjRc3cQUe"
   },
   "source": [
    "## Dataset processing"
   ]
  },
  {
   "cell_type": "markdown",
   "metadata": {
    "id": "D1_xoxKyKtVV"
   },
   "source": [
    "We'll first create training, testing, and validation sets. Here is a nice function written by Anjie to help.\n",
    "\n",
    "One thing to note: the target will be a matrix with 5 columns (for the 6 native languages we are trying to classify to), instead of 1 column (which corresponds with the binary classification tasks that we have been demo-ing in class)."
   ]
  },
  {
   "cell_type": "code",
   "metadata": {
    "id": "PehwNdzeKxQQ",
    "ExecuteTime": {
     "end_time": "2024-12-13T15:59:08.188429Z",
     "start_time": "2024-12-13T15:59:08.185229Z"
    }
   },
   "source": [
    "def train_test_split_by_students(df, train_size=0.8, test_size=0.1, val_size=0.1):\n",
    "    # By default, we set aside 80% of data for training, 10% for testing, and 10% for validation\n",
    "    assert train_size + test_size + val_size == 1\n",
    "\n",
    "    # Split students\n",
    "    students = np.unique(df['filename'])\n",
    "    students_train, students_temp = train_test_split(students, test_size=(test_size + val_size), random_state=1000)\n",
    "    students_test, students_val = train_test_split(students_temp, test_size=(val_size / (test_size + val_size)), random_state=1000)\n",
    "    print(f\"Number of Students in Train: {students_train.size}, Test: {students_test.size}, Validation: {students_val.size}\")\n",
    "\n",
    "    # Split the data by students\n",
    "    train = df[df['filename'].isin(students_train)]\n",
    "    test = df[df['filename'].isin(students_test)]\n",
    "    val = df[df['filename'].isin(students_val)]\n",
    "\n",
    "    # Input feature and Output\n",
    "    feature = ['answer']\n",
    "    X_train, X_test, X_val = train[feature], test[feature], val[feature]\n",
    "    y_train, y_test, y_val = train.loc[:,\"Chinese\":\"Spanish\"], test.loc[:,\"Chinese\":\"Spanish\"], val.loc[:,\"Chinese\":\"Spanish\"]\n",
    "\n",
    "    print(f\"Training Size: {len(X_train)}, Test Size: {len(X_test)}, Validation Size: {len(X_val)}\")\n",
    "\n",
    "    return X_train, X_test, X_val, y_train, y_test, y_val"
   ],
   "outputs": [],
   "execution_count": 173
  },
  {
   "cell_type": "code",
   "metadata": {
    "colab": {
     "base_uri": "https://localhost:8080/"
    },
    "id": "li2LeFB2NqFu",
    "outputId": "f2a23875-0da8-4fcc-9e6f-3be4af8c6a69",
    "ExecuteTime": {
     "end_time": "2024-12-13T15:59:08.233323Z",
     "start_time": "2024-12-13T15:59:08.227416Z"
    }
   },
   "source": [
    "# Call train_test_split_by_students() to create our training, testing, and validation sets\n",
    "\n",
    "X_train, X_test, X_val, y_train, y_test, y_val = train_test_split_by_students(df = data, train_size=0.8, test_size=0.1, val_size=0.1)"
   ],
   "outputs": [
    {
     "name": "stdout",
     "output_type": "stream",
     "text": [
      "Number of Students in Train: 493, Test: 62, Validation: 62\n",
      "Training Size: 980, Test Size: 124, Validation Size: 124\n"
     ]
    }
   ],
   "execution_count": 174
  },
  {
   "cell_type": "code",
   "source": [
    "# Sanity check: Take a look at X_train and y_train\n",
    "\n",
    "print(X_train.head())\n",
    "print(y_train.head())"
   ],
   "metadata": {
    "colab": {
     "base_uri": "https://localhost:8080/"
    },
    "id": "L2N1ZrTF11G1",
    "outputId": "2a8b83c5-349a-4ce1-a52e-641cb5ecbff3",
    "ExecuteTime": {
     "end_time": "2024-12-13T15:59:08.273988Z",
     "start_time": "2024-12-13T15:59:08.270291Z"
    }
   },
   "outputs": [
    {
     "name": "stdout",
     "output_type": "stream",
     "text": [
      "                                              answer\n",
      "0  Dear Mr Ryan.\\nThanks for you letter. I am so ...\n",
      "1  As our class is going to mark a short video ab...\n",
      "2  Dear Madam Helen Ryan,\\nI have received your l...\n",
      "3  I agree! Sometimes shopping is not always enjo...\n",
      "4  Dear Mrs. Ryan,\\nFirst of all, I would like to...\n",
      "   Chinese  French  German  Greek  Portuguese  Spanish\n",
      "0     True   False   False  False       False    False\n",
      "1     True   False   False  False       False    False\n",
      "2     True   False   False  False       False    False\n",
      "3     True   False   False  False       False    False\n",
      "4    False   False   False  False       False     True\n"
     ]
    }
   ],
   "execution_count": 175
  },
  {
   "cell_type": "markdown",
   "source": [
    "## 0) A random baseline"
   ],
   "metadata": {
    "id": "H4JtzHNZP48T"
   }
  },
  {
   "cell_type": "markdown",
   "source": [
    "Here are some different random baselines we can combine the model performance to."
   ],
   "metadata": {
    "id": "8WkXqdbFQI5m"
   }
  },
  {
   "cell_type": "markdown",
   "source": [
    "### Random guessing"
   ],
   "metadata": {
    "id": "xxAbgo_dVXXm"
   }
  },
  {
   "cell_type": "markdown",
   "source": [
    "For random guessing, the theoretical accuracy can be calculated as the sum across all categories of P(guessing class _i_) * P(example is that class _i_). Both of those probabilities will be the proportion of class _i_ present in the dataset."
   ],
   "metadata": {
    "id": "VrGodI_zV30e"
   }
  },
  {
   "cell_type": "code",
   "source": [
    "# Random guessing accuracy (analytical)\n",
    "\n",
    "((data[\"native_language\"].value_counts() / len(data))**2).sum()"
   ],
   "metadata": {
    "colab": {
     "base_uri": "https://localhost:8080/"
    },
    "id": "0sLCoHetVapJ",
    "outputId": "5b6b911f-7d25-45ca-e6cf-4fc716864137",
    "ExecuteTime": {
     "end_time": "2024-12-13T15:59:08.298575Z",
     "start_time": "2024-12-13T15:59:08.295556Z"
    }
   },
   "outputs": [
    {
     "data": {
      "text/plain": [
       "np.float64(0.20812024530764253)"
      ]
     },
     "execution_count": 176,
     "metadata": {},
     "output_type": "execute_result"
    }
   ],
   "execution_count": 176
  },
  {
   "cell_type": "markdown",
   "source": [
    "If classes were balanced and each had equal probability of being chosen as the predicted class, then the theoretical accuracy is 1/6."
   ],
   "metadata": {
    "id": "Kr1lG-tztZTs"
   }
  },
  {
   "cell_type": "code",
   "source": [
    "1/6"
   ],
   "metadata": {
    "colab": {
     "base_uri": "https://localhost:8080/"
    },
    "id": "AqR5vzh9Xgq4",
    "outputId": "0c48a202-84fb-4dd8-d27d-fc3dae50e157",
    "ExecuteTime": {
     "end_time": "2024-12-13T15:59:08.319177Z",
     "start_time": "2024-12-13T15:59:08.317036Z"
    }
   },
   "outputs": [
    {
     "data": {
      "text/plain": [
       "0.16666666666666666"
      ]
     },
     "execution_count": 177,
     "metadata": {},
     "output_type": "execute_result"
    }
   ],
   "execution_count": 177
  },
  {
   "cell_type": "markdown",
   "source": [
    "### Zero Rate Classifier"
   ],
   "metadata": {
    "id": "_I5IS3R2QO14"
   }
  },
  {
   "cell_type": "markdown",
   "source": [
    "If every example is predicted as the class that has a majority, what is the accuracy? (note: we really mean a plurality here since no class has an absolute majority)"
   ],
   "metadata": {
    "id": "agUbhNQlT2sg"
   }
  },
  {
   "cell_type": "code",
   "source": [
    "lang_counts = data[\"native_language\"].value_counts()\n",
    "lang_counts = lang_counts.reindex(lang_list)\n",
    "lang_counts = lang_counts.to_frame().reset_index()\n",
    "lang_counts"
   ],
   "metadata": {
    "colab": {
     "base_uri": "https://localhost:8080/",
     "height": 235
    },
    "id": "Wwpuil2STqrO",
    "outputId": "d7790ada-b088-479f-e03e-54093c87e0e7",
    "ExecuteTime": {
     "end_time": "2024-12-13T15:59:08.340134Z",
     "start_time": "2024-12-13T15:59:08.336168Z"
    }
   },
   "outputs": [
    {
     "data": {
      "text/plain": [
       "  native_language  count\n",
       "0         Chinese    131\n",
       "1          French    288\n",
       "2          German    133\n",
       "3           Greek    144\n",
       "4      Portuguese    136\n",
       "5         Spanish    396"
      ],
      "text/html": [
       "<div>\n",
       "<style scoped>\n",
       "    .dataframe tbody tr th:only-of-type {\n",
       "        vertical-align: middle;\n",
       "    }\n",
       "\n",
       "    .dataframe tbody tr th {\n",
       "        vertical-align: top;\n",
       "    }\n",
       "\n",
       "    .dataframe thead th {\n",
       "        text-align: right;\n",
       "    }\n",
       "</style>\n",
       "<table border=\"1\" class=\"dataframe\">\n",
       "  <thead>\n",
       "    <tr style=\"text-align: right;\">\n",
       "      <th></th>\n",
       "      <th>native_language</th>\n",
       "      <th>count</th>\n",
       "    </tr>\n",
       "  </thead>\n",
       "  <tbody>\n",
       "    <tr>\n",
       "      <th>0</th>\n",
       "      <td>Chinese</td>\n",
       "      <td>131</td>\n",
       "    </tr>\n",
       "    <tr>\n",
       "      <th>1</th>\n",
       "      <td>French</td>\n",
       "      <td>288</td>\n",
       "    </tr>\n",
       "    <tr>\n",
       "      <th>2</th>\n",
       "      <td>German</td>\n",
       "      <td>133</td>\n",
       "    </tr>\n",
       "    <tr>\n",
       "      <th>3</th>\n",
       "      <td>Greek</td>\n",
       "      <td>144</td>\n",
       "    </tr>\n",
       "    <tr>\n",
       "      <th>4</th>\n",
       "      <td>Portuguese</td>\n",
       "      <td>136</td>\n",
       "    </tr>\n",
       "    <tr>\n",
       "      <th>5</th>\n",
       "      <td>Spanish</td>\n",
       "      <td>396</td>\n",
       "    </tr>\n",
       "  </tbody>\n",
       "</table>\n",
       "</div>"
      ]
     },
     "execution_count": 178,
     "metadata": {},
     "output_type": "execute_result"
    }
   ],
   "execution_count": 178
  },
  {
   "cell_type": "markdown",
   "source": [
    "In our dataset (includes all training, testing, and validation examples), Spanish has the most amount of examples at 396."
   ],
   "metadata": {
    "id": "ZqtrtEXPUB4F"
   }
  },
  {
   "cell_type": "code",
   "source": [
    "data[\"native_language\"].value_counts().max() / len(data)"
   ],
   "metadata": {
    "colab": {
     "base_uri": "https://localhost:8080/"
    },
    "id": "fwEYeB2VUR5_",
    "outputId": "4f3dfd9c-39bf-43aa-a170-97d2026c9485",
    "ExecuteTime": {
     "end_time": "2024-12-13T15:59:08.375202Z",
     "start_time": "2024-12-13T15:59:08.372710Z"
    }
   },
   "outputs": [
    {
     "data": {
      "text/plain": [
       "np.float64(0.32247557003257327)"
      ]
     },
     "execution_count": 179,
     "metadata": {},
     "output_type": "execute_result"
    }
   ],
   "execution_count": 179
  },
  {
   "cell_type": "markdown",
   "source": [
    "A random baseline accuracy using a zero rate classifier is **0.322**, if everything were predicted as Spanish. If our model can do better than this, then it will be very good."
   ],
   "metadata": {
    "id": "mcrWoHjVU23U"
   }
  },
  {
   "cell_type": "markdown",
   "source": [
    "### Random simulation macro F1"
   ],
   "metadata": {
    "id": "vxO9sf0u3x6D"
   }
  },
  {
   "cell_type": "markdown",
   "source": [
    "Compute a baseline for macro-F1 score based on random simulation."
   ],
   "metadata": {
    "id": "WPjcLphz31RK"
   }
  },
  {
   "cell_type": "code",
   "source": [
    "# Function to generate a baseline for macro F1 based on random sampling\n",
    "\n",
    "def random_simulate_macrof1(data = data, lang_counts = lang_counts, n=100):\n",
    "\n",
    "    sample_f1 = [None] * n\n",
    "    actual = data[\"native_language\"].to_list()\n",
    "\n",
    "    # Generate random guesses for native language, weighted by proportion of each class in existing data\n",
    "    for i in range(n):\n",
    "        random_sampled_l1 = lang_counts.sample(n=len(data), weights = \"count\", replace = True)\n",
    "        random_sampled_l1 = random_sampled_l1[\"native_language\"].to_list()\n",
    "\n",
    "        sample_f1[i] = f1_score(random_sampled_l1, actual, average = \"macro\")\n",
    "\n",
    "    return np.mean(sample_f1)\n",
    "\n"
   ],
   "metadata": {
    "id": "he02uWlY37Ji",
    "ExecuteTime": {
     "end_time": "2024-12-13T15:59:08.413762Z",
     "start_time": "2024-12-13T15:59:08.411301Z"
    }
   },
   "outputs": [],
   "execution_count": 180
  },
  {
   "cell_type": "code",
   "source": [
    "random_simulate_macrof1()\n"
   ],
   "metadata": {
    "colab": {
     "base_uri": "https://localhost:8080/"
    },
    "id": "TiniXRZN71b4",
    "outputId": "d8c43b3c-c85f-4975-a2f9-d7e86a825a44",
    "ExecuteTime": {
     "end_time": "2024-12-13T15:59:08.727562Z",
     "start_time": "2024-12-13T15:59:08.451112Z"
    }
   },
   "outputs": [
    {
     "data": {
      "text/plain": [
       "np.float64(0.16566771151643322)"
      ]
     },
     "execution_count": 181,
     "metadata": {},
     "output_type": "execute_result"
    }
   ],
   "execution_count": 181
  },
  {
   "cell_type": "markdown",
   "source": [
    "This macro-f1 average from the random simulation is about 0.167."
   ],
   "metadata": {
    "id": "trqYTy9d8f6c"
   }
  },
  {
   "cell_type": "markdown",
   "metadata": {
    "id": "kpQRTePjXGUK"
   },
   "source": [
    "## 1) Neural network model with BERT embeddings"
   ]
  },
  {
   "cell_type": "markdown",
   "metadata": {
    "id": "2KfSHRDmceFW"
   },
   "source": [
    "We'll use DataLoader to do batching, which is necessary for something complicated like BERT. This helps process examples in parallel, and it's more efficient than running each example one by one."
   ]
  },
  {
   "cell_type": "markdown",
   "metadata": {
    "id": "Gsja11LtebT2"
   },
   "source": [
    "Recall for our project: we have the data in a .csv file, and the input (text) is in a column called `answer`, while the output label (native language) is in a column called `native_language`."
   ]
  },
  {
   "cell_type": "code",
   "metadata": {
    "id": "zvaMQiA4dzi_",
    "ExecuteTime": {
     "end_time": "2024-12-13T15:59:08.953343Z",
     "start_time": "2024-12-13T15:59:08.741696Z"
    }
   },
   "source": [
    "# Use BERT's tokenizer\n",
    "\n",
    "bert_tokenizer = BertTokenizer.from_pretrained('bert-base-uncased')"
   ],
   "outputs": [],
   "execution_count": 182
  },
  {
   "cell_type": "markdown",
   "source": [
    "The max length of BERT tokens is 512, but this takes up too much RAM, so we need to decrease the max length..."
   ],
   "metadata": {
    "id": "yY6puIN0_b8P"
   }
  },
  {
   "cell_type": "code",
   "metadata": {
    "id": "YH7__3zYh_QA",
    "ExecuteTime": {
     "end_time": "2024-12-13T15:59:08.972079Z",
     "start_time": "2024-12-13T15:59:08.969112Z"
    }
   },
   "source": [
    "### Prepare data for DataLoader with a custom Dataset class\n",
    "\n",
    "class Dataset(torch.utils.data.Dataset):\n",
    "  def __init__(self, X, y):\n",
    "    # self.texts and self.labels are both lists of vectors\n",
    "    self.texts = [bert_tokenizer(text, padding='max_length', max_length = 512, truncation=True,\n",
    "                            return_tensors=\"pt\") for text in X.squeeze()]\n",
    "    self.labels = y.to_numpy().tolist()\n",
    "\n",
    "  def __len__(self):\n",
    "    return len(self.labels)\n",
    "\n",
    "  def get_batch_labels(self, idx):\n",
    "    # Fetch a batch of labels\n",
    "    return np.array(self.labels[idx])\n",
    "\n",
    "  def get_batch_texts(self, idx):\n",
    "    # Fetch a batch of inputs\n",
    "    return self.texts[idx]\n",
    "\n",
    "  def __getitem__(self, idx):\n",
    "    batch_texts = self.get_batch_texts(idx)\n",
    "    batch_y = self.get_batch_labels(idx)\n",
    "    return batch_texts, batch_y"
   ],
   "outputs": [],
   "execution_count": 183
  },
  {
   "cell_type": "code",
   "metadata": {
    "id": "wqJQP-0T1ldj",
    "ExecuteTime": {
     "end_time": "2024-12-13T15:59:11.027277Z",
     "start_time": "2024-12-13T15:59:08.985527Z"
    }
   },
   "source": [
    "# Create Datasets for training, testing, and validation\n",
    "\n",
    "train_dataset = Dataset(X_train, y_train)\n",
    "test_dataset = Dataset(X_test, y_test)\n",
    "val_dataset = Dataset(X_val, y_val)"
   ],
   "outputs": [],
   "execution_count": 184
  },
  {
   "cell_type": "code",
   "metadata": {
    "colab": {
     "base_uri": "https://localhost:8080/"
    },
    "id": "Juo2CZn8e2VC",
    "outputId": "7078fd5f-61c9-46b2-fc88-66ed917aa6e1",
    "ExecuteTime": {
     "end_time": "2024-12-13T15:59:11.053499Z",
     "start_time": "2024-12-13T15:59:11.041721Z"
    }
   },
   "source": [
    "# Sanity check\n",
    "\n",
    "print(\"Length of training dataset:\", len(train_dataset))\n",
    "print(\"Length of testing dataset:\", len(test_dataset))\n",
    "print(\"Length of validation dataset:\", len(val_dataset))\n",
    "\n",
    "print(train_dataset.get_batch_texts(90))\n",
    "print(train_dataset.get_batch_labels(90))"
   ],
   "outputs": [
    {
     "name": "stdout",
     "output_type": "stream",
     "text": [
      "Length of training dataset: 980\n",
      "Length of testing dataset: 124\n",
      "Length of validation dataset: 124\n",
      "{'input_ids': tensor([[  101,  9810,  1010,  6122,  2238,  2456,  6203,  3680,  4575,  4067,\n",
      "          2017,  1037,  2843,  2005,  2115,  2785,  3661,  1012,  1045,  2001,\n",
      "          2200,  4527,  2006,  1996,  2765,  1997,  1996,  2971,  1012,  2085,\n",
      "          1045,  2572,  3407,  2000,  2507,  2017,  2035,  1996,  2592,  2017,\n",
      "          2342,  1012,  1045,  2228,  2009,  2052,  2022,  2488,  2005,  2033,\n",
      "          2000,  3604,  2006,  2251,  1012,  1045,  2097,  2318,  2019,  3059,\n",
      "          2607,  1999,  2257,  1010,  2061,  2009,  2097,  2022,  5263,  2005,\n",
      "          2033,  2000,  2681,  1012,  1999,  2115,  3661,  2017,  3198,  2033,\n",
      "          2000,  5454, 10506,  2102, 28394,  2078, 17732,  2030,  8833, 20321,\n",
      "          1010,  2092,  1045,  9544,  2000,  2994,  1999,  1037,  8833,  6644,\n",
      "          1012,  2009,  2003,  2062,  9530, 13028,  3085,  1998,  1045,  2572,\n",
      "          4452,  2055,  3748,  4176,  1012,  1045,  2387,  1010,  2017,  3749,\n",
      "          1037,  2843,  1997,  3450,  1010,  2008,  1005,  2003, 10392,   999,\n",
      "          2009,  2003,  2200,  3697,  2000,  5630,  2029,  2048,  1997,  2122,\n",
      "          3450,  1045,  2066,  1998,  1045,  2064,  2036,  2079,  1996,  2190,\n",
      "          1012,  1045,  2228,  1045,  5454,  4823,  2138,  1045,  2031,  7042,\n",
      "          2005,  2274,  2086,  1999,  1037,  2277,  7165,  1998,  1045,  2079,\n",
      "          2009,  2200,  2092,  1012,  1996,  2060,  4023,  1045,  2066,  2200,\n",
      "          2172,  2063,  2003,  5742,  1012,  1045,  2165,  2112,  2012,  1037,\n",
      "          2843,  1997,  6479,  1012,  2085,  1045,  2052,  2066,  2000,  3198,\n",
      "          2017,  2065, 16776,  2342,  2070,  2769,  1998,  2065,  2009,  2003,\n",
      "          4072,  2000,  2202,  2007,  2033,  2569,  4253,  1012,  1045,  3246,\n",
      "          1045,  2031,  2507,  2000,  2017,  2035,  1996,  2592,  2017,  2734,\n",
      "          1998,  1045,  2572,  2559,  2830,  2000,  4994,  2013,  2017,  1012,\n",
      "          6737, 25664,  1038,  1012, 12304,   102,     0,     0,     0,     0,\n",
      "             0,     0,     0,     0,     0,     0,     0,     0,     0,     0,\n",
      "             0,     0,     0,     0,     0,     0,     0,     0,     0,     0,\n",
      "             0,     0,     0,     0,     0,     0,     0,     0,     0,     0,\n",
      "             0,     0,     0,     0,     0,     0,     0,     0,     0,     0,\n",
      "             0,     0,     0,     0,     0,     0,     0,     0,     0,     0,\n",
      "             0,     0,     0,     0,     0,     0,     0,     0,     0,     0,\n",
      "             0,     0,     0,     0,     0,     0,     0,     0,     0,     0,\n",
      "             0,     0,     0,     0,     0,     0,     0,     0,     0,     0,\n",
      "             0,     0,     0,     0,     0,     0,     0,     0,     0,     0,\n",
      "             0,     0,     0,     0,     0,     0,     0,     0,     0,     0,\n",
      "             0,     0,     0,     0,     0,     0,     0,     0,     0,     0,\n",
      "             0,     0,     0,     0,     0,     0,     0,     0,     0,     0,\n",
      "             0,     0,     0,     0,     0,     0,     0,     0,     0,     0,\n",
      "             0,     0,     0,     0,     0,     0,     0,     0,     0,     0,\n",
      "             0,     0,     0,     0,     0,     0,     0,     0,     0,     0,\n",
      "             0,     0,     0,     0,     0,     0,     0,     0,     0,     0,\n",
      "             0,     0,     0,     0,     0,     0,     0,     0,     0,     0,\n",
      "             0,     0,     0,     0,     0,     0,     0,     0,     0,     0,\n",
      "             0,     0,     0,     0,     0,     0,     0,     0,     0,     0,\n",
      "             0,     0,     0,     0,     0,     0,     0,     0,     0,     0,\n",
      "             0,     0,     0,     0,     0,     0,     0,     0,     0,     0,\n",
      "             0,     0,     0,     0,     0,     0,     0,     0,     0,     0,\n",
      "             0,     0,     0,     0,     0,     0,     0,     0,     0,     0,\n",
      "             0,     0,     0,     0,     0,     0,     0,     0,     0,     0,\n",
      "             0,     0,     0,     0,     0,     0,     0,     0,     0,     0,\n",
      "             0,     0,     0,     0,     0,     0,     0,     0,     0,     0,\n",
      "             0,     0]]), 'token_type_ids': tensor([[0, 0, 0, 0, 0, 0, 0, 0, 0, 0, 0, 0, 0, 0, 0, 0, 0, 0, 0, 0, 0, 0, 0, 0,\n",
      "         0, 0, 0, 0, 0, 0, 0, 0, 0, 0, 0, 0, 0, 0, 0, 0, 0, 0, 0, 0, 0, 0, 0, 0,\n",
      "         0, 0, 0, 0, 0, 0, 0, 0, 0, 0, 0, 0, 0, 0, 0, 0, 0, 0, 0, 0, 0, 0, 0, 0,\n",
      "         0, 0, 0, 0, 0, 0, 0, 0, 0, 0, 0, 0, 0, 0, 0, 0, 0, 0, 0, 0, 0, 0, 0, 0,\n",
      "         0, 0, 0, 0, 0, 0, 0, 0, 0, 0, 0, 0, 0, 0, 0, 0, 0, 0, 0, 0, 0, 0, 0, 0,\n",
      "         0, 0, 0, 0, 0, 0, 0, 0, 0, 0, 0, 0, 0, 0, 0, 0, 0, 0, 0, 0, 0, 0, 0, 0,\n",
      "         0, 0, 0, 0, 0, 0, 0, 0, 0, 0, 0, 0, 0, 0, 0, 0, 0, 0, 0, 0, 0, 0, 0, 0,\n",
      "         0, 0, 0, 0, 0, 0, 0, 0, 0, 0, 0, 0, 0, 0, 0, 0, 0, 0, 0, 0, 0, 0, 0, 0,\n",
      "         0, 0, 0, 0, 0, 0, 0, 0, 0, 0, 0, 0, 0, 0, 0, 0, 0, 0, 0, 0, 0, 0, 0, 0,\n",
      "         0, 0, 0, 0, 0, 0, 0, 0, 0, 0, 0, 0, 0, 0, 0, 0, 0, 0, 0, 0, 0, 0, 0, 0,\n",
      "         0, 0, 0, 0, 0, 0, 0, 0, 0, 0, 0, 0, 0, 0, 0, 0, 0, 0, 0, 0, 0, 0, 0, 0,\n",
      "         0, 0, 0, 0, 0, 0, 0, 0, 0, 0, 0, 0, 0, 0, 0, 0, 0, 0, 0, 0, 0, 0, 0, 0,\n",
      "         0, 0, 0, 0, 0, 0, 0, 0, 0, 0, 0, 0, 0, 0, 0, 0, 0, 0, 0, 0, 0, 0, 0, 0,\n",
      "         0, 0, 0, 0, 0, 0, 0, 0, 0, 0, 0, 0, 0, 0, 0, 0, 0, 0, 0, 0, 0, 0, 0, 0,\n",
      "         0, 0, 0, 0, 0, 0, 0, 0, 0, 0, 0, 0, 0, 0, 0, 0, 0, 0, 0, 0, 0, 0, 0, 0,\n",
      "         0, 0, 0, 0, 0, 0, 0, 0, 0, 0, 0, 0, 0, 0, 0, 0, 0, 0, 0, 0, 0, 0, 0, 0,\n",
      "         0, 0, 0, 0, 0, 0, 0, 0, 0, 0, 0, 0, 0, 0, 0, 0, 0, 0, 0, 0, 0, 0, 0, 0,\n",
      "         0, 0, 0, 0, 0, 0, 0, 0, 0, 0, 0, 0, 0, 0, 0, 0, 0, 0, 0, 0, 0, 0, 0, 0,\n",
      "         0, 0, 0, 0, 0, 0, 0, 0, 0, 0, 0, 0, 0, 0, 0, 0, 0, 0, 0, 0, 0, 0, 0, 0,\n",
      "         0, 0, 0, 0, 0, 0, 0, 0, 0, 0, 0, 0, 0, 0, 0, 0, 0, 0, 0, 0, 0, 0, 0, 0,\n",
      "         0, 0, 0, 0, 0, 0, 0, 0, 0, 0, 0, 0, 0, 0, 0, 0, 0, 0, 0, 0, 0, 0, 0, 0,\n",
      "         0, 0, 0, 0, 0, 0, 0, 0]]), 'attention_mask': tensor([[1, 1, 1, 1, 1, 1, 1, 1, 1, 1, 1, 1, 1, 1, 1, 1, 1, 1, 1, 1, 1, 1, 1, 1,\n",
      "         1, 1, 1, 1, 1, 1, 1, 1, 1, 1, 1, 1, 1, 1, 1, 1, 1, 1, 1, 1, 1, 1, 1, 1,\n",
      "         1, 1, 1, 1, 1, 1, 1, 1, 1, 1, 1, 1, 1, 1, 1, 1, 1, 1, 1, 1, 1, 1, 1, 1,\n",
      "         1, 1, 1, 1, 1, 1, 1, 1, 1, 1, 1, 1, 1, 1, 1, 1, 1, 1, 1, 1, 1, 1, 1, 1,\n",
      "         1, 1, 1, 1, 1, 1, 1, 1, 1, 1, 1, 1, 1, 1, 1, 1, 1, 1, 1, 1, 1, 1, 1, 1,\n",
      "         1, 1, 1, 1, 1, 1, 1, 1, 1, 1, 1, 1, 1, 1, 1, 1, 1, 1, 1, 1, 1, 1, 1, 1,\n",
      "         1, 1, 1, 1, 1, 1, 1, 1, 1, 1, 1, 1, 1, 1, 1, 1, 1, 1, 1, 1, 1, 1, 1, 1,\n",
      "         1, 1, 1, 1, 1, 1, 1, 1, 1, 1, 1, 1, 1, 1, 1, 1, 1, 1, 1, 1, 1, 1, 1, 1,\n",
      "         1, 1, 1, 1, 1, 1, 1, 1, 1, 1, 1, 1, 1, 1, 1, 1, 1, 1, 1, 1, 1, 1, 1, 1,\n",
      "         1, 1, 1, 1, 1, 1, 1, 1, 1, 1, 1, 1, 1, 1, 1, 1, 1, 1, 1, 1, 1, 1, 1, 1,\n",
      "         1, 1, 1, 1, 1, 1, 0, 0, 0, 0, 0, 0, 0, 0, 0, 0, 0, 0, 0, 0, 0, 0, 0, 0,\n",
      "         0, 0, 0, 0, 0, 0, 0, 0, 0, 0, 0, 0, 0, 0, 0, 0, 0, 0, 0, 0, 0, 0, 0, 0,\n",
      "         0, 0, 0, 0, 0, 0, 0, 0, 0, 0, 0, 0, 0, 0, 0, 0, 0, 0, 0, 0, 0, 0, 0, 0,\n",
      "         0, 0, 0, 0, 0, 0, 0, 0, 0, 0, 0, 0, 0, 0, 0, 0, 0, 0, 0, 0, 0, 0, 0, 0,\n",
      "         0, 0, 0, 0, 0, 0, 0, 0, 0, 0, 0, 0, 0, 0, 0, 0, 0, 0, 0, 0, 0, 0, 0, 0,\n",
      "         0, 0, 0, 0, 0, 0, 0, 0, 0, 0, 0, 0, 0, 0, 0, 0, 0, 0, 0, 0, 0, 0, 0, 0,\n",
      "         0, 0, 0, 0, 0, 0, 0, 0, 0, 0, 0, 0, 0, 0, 0, 0, 0, 0, 0, 0, 0, 0, 0, 0,\n",
      "         0, 0, 0, 0, 0, 0, 0, 0, 0, 0, 0, 0, 0, 0, 0, 0, 0, 0, 0, 0, 0, 0, 0, 0,\n",
      "         0, 0, 0, 0, 0, 0, 0, 0, 0, 0, 0, 0, 0, 0, 0, 0, 0, 0, 0, 0, 0, 0, 0, 0,\n",
      "         0, 0, 0, 0, 0, 0, 0, 0, 0, 0, 0, 0, 0, 0, 0, 0, 0, 0, 0, 0, 0, 0, 0, 0,\n",
      "         0, 0, 0, 0, 0, 0, 0, 0, 0, 0, 0, 0, 0, 0, 0, 0, 0, 0, 0, 0, 0, 0, 0, 0,\n",
      "         0, 0, 0, 0, 0, 0, 0, 0]])}\n",
      "[False False  True False False False]\n"
     ]
    }
   ],
   "execution_count": 185
  },
  {
   "cell_type": "markdown",
   "metadata": {
    "id": "dFQx84zEkJHp"
   },
   "source": [
    "Now we'll prepare the data for training with DataLoader (https://pytorch.org/tutorials/beginner/basics/data_tutorial.html), which will allow us to iterate through the data in batches. After some testing, it seems like Cuda runs out of RAM if the batch size is too large, because there are too many computations being done at once. So, we are sticking with a batch size of 8."
   ]
  },
  {
   "cell_type": "code",
   "metadata": {
    "id": "rqSSnvOAlPgs",
    "ExecuteTime": {
     "end_time": "2024-12-13T15:59:11.073731Z",
     "start_time": "2024-12-13T15:59:11.067500Z"
    }
   },
   "source": [
    "# Specify a batch size for training\n",
    "\n",
    "batch_size = 8\n",
    "\n",
    "# Convert Dataset to DataLoader with specified batch size and shuffling\n",
    "\n",
    "def dataset_to_loader(dataset):\n",
    "    return DataLoader(dataset, batch_size = batch_size, shuffle = True)\n",
    "\n",
    "# Make instance of DataLoader for each of train, test, and val\n",
    "\n",
    "train_loader = dataset_to_loader(train_dataset)\n",
    "test_loader = dataset_to_loader(test_dataset)\n",
    "val_loader = dataset_to_loader(val_dataset)"
   ],
   "outputs": [],
   "execution_count": 186
  },
  {
   "cell_type": "code",
   "metadata": {
    "colab": {
     "base_uri": "https://localhost:8080/"
    },
    "id": "gWQvbXihe9-G",
    "outputId": "1cf3a8a0-5f6c-4359-9ed1-70c163a7096a",
    "ExecuteTime": {
     "end_time": "2024-12-13T15:59:11.090497Z",
     "start_time": "2024-12-13T15:59:11.088540Z"
    }
   },
   "source": [
    "# Sanity check: Length of each DataLoader (i.e. the number of batches)\n",
    "\n",
    "print(\"Length of training dataloader:\", len(train_loader))\n",
    "print(\"Length of testing dataloader:\", len(test_loader))\n",
    "print(\"Length of validation dataloader:\", len(val_loader))"
   ],
   "outputs": [
    {
     "name": "stdout",
     "output_type": "stream",
     "text": [
      "Length of training dataloader: 123\n",
      "Length of testing dataloader: 16\n",
      "Length of validation dataloader: 16\n"
     ]
    }
   ],
   "execution_count": 187
  },
  {
   "cell_type": "markdown",
   "metadata": {
    "id": "uqF0cnd7XIkU"
   },
   "source": [
    "We will customize models from already available base model classes. The `nn.Module` base class from Pytorch is the neural network base class, but we need to add a layer for being able to use BERT embeddings for the CLS token as the model's input.\n",
    "\n",
    "The number of dimensions in the base BERT model is **768**, which will be the input dimension for the first layer.\n",
    "\n",
    "The number of language classes we have is **6**, which will be the output dimension of the output layer, which will contain each class's respective weights. We'll use the Softmax activation function (https://pytorch.org/docs/stable/generated/torch.nn.Softmax.html, https://pytorch.org/docs/stable/generated/torch.nn.functional.softmax.html)."
   ]
  },
  {
   "cell_type": "markdown",
   "metadata": {
    "id": "jJ7lN4THRraL"
   },
   "source": [
    "#### BERT model base class"
   ]
  },
  {
   "cell_type": "code",
   "source": [
    "### Feedforward neural network class that takes in BERT embeddings as inputs\n",
    "\n",
    "class feedforward_nn_bert(nn.Module):\n",
    "\n",
    "  def __init__(self, dropout = 0.1, freeze_layer_count = 6):\n",
    "    super().__init__()\n",
    "\n",
    "    # Initialize a BERT model as an attribute to help get embeddings\n",
    "    self.bert = BertModel.from_pretrained('bert-base-uncased')\n",
    "\n",
    "    # Freeze BERT layers\n",
    "    if freeze_layer_count:\n",
    "            # We freeze here the embeddings of the model\n",
    "            for param in self.bert.embeddings.parameters():\n",
    "                param.requires_grad = False\n",
    "\n",
    "            if freeze_layer_count != -1:\n",
    "                # if freeze_layer_count == -1, we only freeze the embedding layer\n",
    "                # otherwise we freeze the first `freeze_layer_count` encoder layers\n",
    "                for layer in self.bert.encoder.layer[:freeze_layer_count]:\n",
    "                    for param in layer.parameters():\n",
    "                        param.requires_grad = False\n",
    "\n",
    "    # Regularization technique: dropout\n",
    "    if dropout:\n",
    "      self.dropout = nn.Dropout(dropout)\n",
    "    else:\n",
    "      self.dropout = None\n",
    "\n",
    "    ### Layers to the neural network\n",
    "    self.fc1 = nn.Linear(768, 10)   # First hidden layer requires input dim = 768\n",
    "    self.fc2 = nn.Linear(10, 6)     # Output layer requires output dim = 6\n",
    "\n",
    "\n",
    "  def forward(self, input_id, mask):\n",
    "\n",
    "    # First step in the forward pass: get text-level embeddings of the CLS token\n",
    "    _, CLS = self.bert(input_ids = input_id, attention_mask = mask, return_dict = False)\n",
    "\n",
    "    # Regularization technique: dropout\n",
    "    if self.dropout:\n",
    "      x = self.dropout(CLS)\n",
    "\n",
    "    ### Layers to the neural network\n",
    "    x = f.relu(self.fc1(CLS))   # Hidden layer\n",
    "    x = f.softmax(self.fc2(x))  # Output layer: multi-class classification\n",
    "\n",
    "    return x"
   ],
   "metadata": {
    "id": "sSuMrWlZ4zAH",
    "ExecuteTime": {
     "end_time": "2024-12-13T15:59:11.107637Z",
     "start_time": "2024-12-13T15:59:11.104261Z"
    }
   },
   "outputs": [],
   "execution_count": 188
  },
  {
   "cell_type": "markdown",
   "metadata": {
    "id": "hYQhcIw-dl1n"
   },
   "source": [
    "Now we can create the neural network as an instance of the `feedforward_nn_bert` class."
   ]
  },
  {
   "cell_type": "code",
   "metadata": {
    "colab": {
     "base_uri": "https://localhost:8080/"
    },
    "id": "cA4ezw4GZcw2",
    "outputId": "a6351361-e57b-483f-d03d-80bd6d82954c",
    "ExecuteTime": {
     "end_time": "2024-12-13T15:59:11.123187Z",
     "start_time": "2024-12-13T15:59:11.121143Z"
    }
   },
   "source": [
    "X_train.shape"
   ],
   "outputs": [
    {
     "data": {
      "text/plain": [
       "(980, 1)"
      ]
     },
     "execution_count": 189,
     "metadata": {},
     "output_type": "execute_result"
    }
   ],
   "execution_count": 189
  },
  {
   "cell_type": "code",
   "metadata": {
    "id": "LkhSMpHsU4GR",
    "ExecuteTime": {
     "end_time": "2024-12-13T15:59:11.682468Z",
     "start_time": "2024-12-13T15:59:11.136964Z"
    }
   },
   "source": [
    "# Create our neural network as an instance of the feedforward_nn_bert class\n",
    "\n",
    "model = feedforward_nn_bert()"
   ],
   "outputs": [],
   "execution_count": 190
  },
  {
   "cell_type": "markdown",
   "metadata": {
    "id": "CqS07orpeUbC"
   },
   "source": [
    "### BERT model training"
   ]
  },
  {
   "cell_type": "code",
   "metadata": {
    "id": "iZYPRTMcDYAJ",
    "ExecuteTime": {
     "end_time": "2024-12-13T15:59:11.725653Z",
     "start_time": "2024-12-13T15:59:11.698522Z"
    }
   },
   "source": [
    "# Define number of epochs (training iterations) and optimizer (loss function)\n",
    "\n",
    "epochs = 5\n",
    "\n",
    "### CrossEntropyLoss loss function for multiclass classification\n",
    "\n",
    "criterion = nn.CrossEntropyLoss()\n",
    "\n",
    "optimizer = optim.Adam(model.parameters())\n",
    "\n",
    "scheduler = torch.optim.lr_scheduler.ExponentialLR(optimizer, gamma=0.9)"
   ],
   "outputs": [],
   "execution_count": 191
  },
  {
   "cell_type": "code",
   "metadata": {
    "id": "nx6MQzL8mNmI",
    "ExecuteTime": {
     "end_time": "2024-12-13T15:59:11.742330Z",
     "start_time": "2024-12-13T15:59:11.739541Z"
    }
   },
   "source": [
    "### Train the model on our training set\n",
    "\n",
    "def train_nn(model,\n",
    "             train_loader, val_loader,\n",
    "             use_cuda,\n",
    "             learning_rate = 2e-2, epochs = epochs, batch_size = batch_size):\n",
    "\n",
    "  if use_cuda:\n",
    "    model = model.cuda()\n",
    "\n",
    "  for epoch in range(epochs):\n",
    "\n",
    "    # In training set\n",
    "    for inputs, labels in tqdm(train_loader, leave = False):\n",
    "      train_labels = labels.type(torch.LongTensor).to(device)\n",
    "      input_ids = inputs['input_ids'].squeeze(1).to(device)\n",
    "      attention_masks = inputs['attention_mask'].to(device)\n",
    "\n",
    "      model.train()\n",
    "      output = model(input_ids, attention_masks)\n",
    "      #output = torch.squeeze(output, dim=1)  # Squeeze the output tensor\n",
    "\n",
    "      batch_loss = criterion(output, train_labels.float())\n",
    "\n",
    "      model.zero_grad()\n",
    "      batch_loss.backward()\n",
    "      optimizer.step()\n",
    "\n",
    "    # Validation step\n",
    "    model.eval()\n",
    "    val_loss, val_accuracy, val_labels, val_preds, report = eval_nn(model, val_loader)\n",
    "    scheduler.step()\n",
    "\n",
    "    # Print as we train the loss and accruacy for each epoch\n",
    "    print(f'Epoch {epoch+1}/{epochs}, Loss: {batch_loss.item():.3f}, Val Loss: {val_loss:.3f}, Val Accuracy: {val_accuracy:.3f}')\n",
    "\n",
    "\n",
    "  return model"
   ],
   "outputs": [],
   "execution_count": 192
  },
  {
   "cell_type": "code",
   "metadata": {
    "id": "kORkD4JKZtt1",
    "ExecuteTime": {
     "end_time": "2024-12-13T15:59:11.757987Z",
     "start_time": "2024-12-13T15:59:11.754865Z"
    }
   },
   "source": [
    "### Evaluate model on validation set\n",
    "\n",
    "def eval_nn(model, val_loader):\n",
    "\n",
    "    model.eval()  # Set the model to evaluation mode\n",
    "\n",
    "    # Record the actual labels and predicted labels\n",
    "    val_labels, val_preds = [], []\n",
    "\n",
    "    with torch.no_grad():\n",
    "        val_loss = 0.0\n",
    "        correct = 0\n",
    "        total = 0\n",
    "\n",
    "        # In the dataset we are evaluating on\n",
    "        for input, label in val_loader:\n",
    "\n",
    "            val_label = label.float().argmax(dim=1).to(device)    # Actual class label\n",
    "            input_ids = input['input_ids'].squeeze(1).to(device)\n",
    "            attention_masks = input['attention_mask'].to(device)\n",
    "\n",
    "            output = model(input_ids, attention_masks)\n",
    "            output = output.float()\n",
    "\n",
    "            # Compute loss & accuracy\n",
    "            val_loss += criterion(output, val_label).item()   # For each batch, add loss to total\n",
    "\n",
    "            predicted = output.argmax(dim = 1)   # Predicted class label\n",
    "            total += label.size(0)\n",
    "            correct += (predicted == val_label).sum().item()\n",
    "\n",
    "            # Record the actual labels and predicted labels\n",
    "            val_labels.extend(val_label.tolist())\n",
    "            val_preds.extend(output.argmax(dim=1).tolist())\n",
    "\n",
    "        val_loss /= len(val_loader)\n",
    "        val_accuracy = correct / total\n",
    "\n",
    "        report = classification_report(y_true = val_labels, y_pred = val_preds, zero_division=1)\n",
    "\n",
    "    return val_loss, val_accuracy, val_labels, val_preds, report"
   ],
   "outputs": [],
   "execution_count": 193
  },
  {
   "cell_type": "markdown",
   "source": [
    "### BERT model evaluation"
   ],
   "metadata": {
    "id": "9VAcza8LRs21"
   }
  },
  {
   "cell_type": "markdown",
   "metadata": {
    "id": "pF482ff1bu9I"
   },
   "source": [
    "We can finally call the functions that we made to make predictions. NOTE: This process takes several minutes..."
   ]
  },
  {
   "cell_type": "markdown",
   "source": [
    "Version with dropout regularization:"
   ],
   "metadata": {
    "id": "Ug_9nipd-bpm"
   }
  },
  {
   "cell_type": "code",
   "metadata": {
    "colab": {
     "base_uri": "https://localhost:8080/"
    },
    "id": "HQNImyU5Dh8R",
    "outputId": "269b9797-ce28-4382-f833-ec0a96f611ce",
    "ExecuteTime": {
     "end_time": "2024-12-13T17:00:49.171183Z",
     "start_time": "2024-12-13T15:59:11.771842Z"
    }
   },
   "source": [
    "model = train_nn(model,\n",
    "         train_loader, val_loader,\n",
    "         use_cuda,\n",
    "         learning_rate = 2e-2, epochs = epochs, batch_size = batch_size)"
   ],
   "outputs": [
    {
     "name": "stderr",
     "output_type": "stream",
     "text": [
      "  0%|          | 0/123 [00:00<?, ?it/s]/var/folders/k4/0qlr7kps5m9fslp8sm9s9ds00000gn/T/ipykernel_92473/345369206.py:46: UserWarning: Implicit dimension choice for softmax has been deprecated. Change the call to include dim=X as an argument.\n",
      "  x = f.softmax(self.fc2(x))  # Output layer: multi-class classification\n",
      "                                                   \r"
     ]
    },
    {
     "name": "stdout",
     "output_type": "stream",
     "text": [
      "Epoch 1/5, Loss: 1.819, Val Loss: 1.792, Val Accuracy: 0.242\n"
     ]
    },
    {
     "name": "stderr",
     "output_type": "stream",
     "text": [
      "  0%|          | 0/123 [00:00<?, ?it/s]/var/folders/k4/0qlr7kps5m9fslp8sm9s9ds00000gn/T/ipykernel_92473/345369206.py:46: UserWarning: Implicit dimension choice for softmax has been deprecated. Change the call to include dim=X as an argument.\n",
      "  x = f.softmax(self.fc2(x))  # Output layer: multi-class classification\n",
      "                                                 \r"
     ]
    },
    {
     "name": "stdout",
     "output_type": "stream",
     "text": [
      "Epoch 2/5, Loss: 1.797, Val Loss: 1.790, Val Accuracy: 0.242\n"
     ]
    },
    {
     "name": "stderr",
     "output_type": "stream",
     "text": [
      "  0%|          | 0/123 [00:00<?, ?it/s]/var/folders/k4/0qlr7kps5m9fslp8sm9s9ds00000gn/T/ipykernel_92473/345369206.py:46: UserWarning: Implicit dimension choice for softmax has been deprecated. Change the call to include dim=X as an argument.\n",
      "  x = f.softmax(self.fc2(x))  # Output layer: multi-class classification\n",
      "                                                 \r"
     ]
    },
    {
     "name": "stdout",
     "output_type": "stream",
     "text": [
      "Epoch 3/5, Loss: 1.780, Val Loss: 1.786, Val Accuracy: 0.242\n"
     ]
    },
    {
     "name": "stderr",
     "output_type": "stream",
     "text": [
      "  0%|          | 0/123 [00:00<?, ?it/s]/var/folders/k4/0qlr7kps5m9fslp8sm9s9ds00000gn/T/ipykernel_92473/345369206.py:46: UserWarning: Implicit dimension choice for softmax has been deprecated. Change the call to include dim=X as an argument.\n",
      "  x = f.softmax(self.fc2(x))  # Output layer: multi-class classification\n",
      "                                                 \r"
     ]
    },
    {
     "name": "stdout",
     "output_type": "stream",
     "text": [
      "Epoch 4/5, Loss: 1.749, Val Loss: 1.785, Val Accuracy: 0.242\n"
     ]
    },
    {
     "name": "stderr",
     "output_type": "stream",
     "text": [
      "  0%|          | 0/123 [00:00<?, ?it/s]/var/folders/k4/0qlr7kps5m9fslp8sm9s9ds00000gn/T/ipykernel_92473/345369206.py:46: UserWarning: Implicit dimension choice for softmax has been deprecated. Change the call to include dim=X as an argument.\n",
      "  x = f.softmax(self.fc2(x))  # Output layer: multi-class classification\n",
      "                                                 \r"
     ]
    },
    {
     "name": "stdout",
     "output_type": "stream",
     "text": [
      "Epoch 5/5, Loss: 1.737, Val Loss: 1.785, Val Accuracy: 0.242\n"
     ]
    }
   ],
   "execution_count": 194
  },
  {
   "cell_type": "code",
   "source": [
    "# Visualize confusion matrix\n",
    "\n",
    "from sklearn.metrics import confusion_matrix, ConfusionMatrixDisplay\n",
    "import matplotlib.pyplot as plt\n",
    "import seaborn as sns\n",
    "\n",
    "def create_cm(actual_labels, predicted_labels):\n",
    "    cm = confusion_matrix(actual_labels, predicted_labels)\n",
    "    palette = sns.color_palette(\"Blues\",as_cmap=True)\n",
    "    s = sns.heatmap(cm, annot=True, cmap=palette, xticklabels=lang_list, yticklabels=lang_list)\n",
    "\n",
    "    s.set(xlabel='Predicted Label', ylabel='True Label')"
   ],
   "metadata": {
    "id": "0kPyfhRXbqVx",
    "ExecuteTime": {
     "end_time": "2024-12-13T17:00:49.230118Z",
     "start_time": "2024-12-13T17:00:49.226909Z"
    }
   },
   "outputs": [],
   "execution_count": 195
  },
  {
   "cell_type": "code",
   "metadata": {
    "colab": {
     "base_uri": "https://localhost:8080/"
    },
    "id": "4Hj_zFnob8dS",
    "outputId": "9d13a982-9966-4083-d8ad-0aa5a02e8a2f",
    "ExecuteTime": {
     "end_time": "2024-12-13T17:01:03.667177Z",
     "start_time": "2024-12-13T17:00:49.253832Z"
    }
   },
   "source": [
    "test_loss, test_accuracy, test_labels, test_preds, report = eval_nn(model, test_loader)\n",
    "\n",
    "print(report)\n",
    "create_cm(test_labels, test_preds)"
   ],
   "outputs": [
    {
     "name": "stderr",
     "output_type": "stream",
     "text": [
      "/var/folders/k4/0qlr7kps5m9fslp8sm9s9ds00000gn/T/ipykernel_92473/345369206.py:46: UserWarning: Implicit dimension choice for softmax has been deprecated. Change the call to include dim=X as an argument.\n",
      "  x = f.softmax(self.fc2(x))  # Output layer: multi-class classification\n"
     ]
    },
    {
     "name": "stdout",
     "output_type": "stream",
     "text": [
      "              precision    recall  f1-score   support\n",
      "\n",
      "           0       1.00      0.00      0.00        18\n",
      "           1       1.00      0.00      0.00        28\n",
      "           2       1.00      0.00      0.00        16\n",
      "           3       1.00      0.00      0.00        16\n",
      "           4       1.00      0.00      0.00        14\n",
      "           5       0.26      1.00      0.41        32\n",
      "\n",
      "    accuracy                           0.26       124\n",
      "   macro avg       0.88      0.17      0.07       124\n",
      "weighted avg       0.81      0.26      0.11       124\n",
      "\n"
     ]
    },
    {
     "data": {
      "text/plain": [
       "<Figure size 640x480 with 2 Axes>"
      ],
      "image/png": "[encoded data removed]"
     },
     "metadata": {},
     "output_type": "display_data"
    }
   ],
   "execution_count": 196
  },
  {
   "cell_type": "markdown",
   "source": [
    "Interesting... all examples are being predicted as French"
   ],
   "metadata": {
    "id": "N8w0XxhG-mqf"
   }
  },
  {
   "cell_type": "markdown",
   "source": [
    "### Testing on Reddit L2 corpus"
   ],
   "metadata": {
    "id": "GZbRkG7cWcD_"
   }
  },
  {
   "cell_type": "markdown",
   "source": [
    "The Reddit L2 corpus contains comments from Reddit users, labelled with their country of origin. We'll test the neural network model on this dataset to see if the model trained on academic text can make any predictions for unseen text produced in a more casual setting. Some problems with this are that the Cambridge FCE dataset are that text samples are essays with several paragraphs, while Reddit comments are only sentences."
   ],
   "metadata": {
    "id": "uzxeiQAyWfZy"
   }
  },
  {
   "cell_type": "code",
   "source": [
    "# Upload Reddit L2 corpus data\n",
    "\n",
    "reddit = pd.read_csv(\"data/reddit_6languages.csv\")"
   ],
   "metadata": {
    "id": "6JWxcC7k6Brb",
    "ExecuteTime": {
     "end_time": "2024-12-13T17:01:04.207745Z",
     "start_time": "2024-12-13T17:01:03.682823Z"
    }
   },
   "outputs": [],
   "execution_count": 197
  },
  {
   "cell_type": "code",
   "source": [
    "# Take a look at the Reddit data\n",
    "\n",
    "reddit.head()"
   ],
   "metadata": {
    "colab": {
     "base_uri": "https://localhost:8080/",
     "height": 206
    },
    "id": "gASkrdLP-wmV",
    "outputId": "fb556849-0cad-43e1-9329-1150cebdc825",
    "ExecuteTime": {
     "end_time": "2024-12-13T17:01:04.226397Z",
     "start_time": "2024-12-13T17:01:04.223298Z"
    }
   },
   "outputs": [
    {
     "data": {
      "text/plain": [
       "                                            comments native_language\n",
       "0  she was born , lived and died on these soils w...         Chinese\n",
       "1                    her books are a waste of time .         Chinese\n",
       "2  here 's a previous thread where i posted the s...         Chinese\n",
       "3              NORP are from GPE which is not in LOC         Chinese\n",
       "4  GPE tries to heavily promote uniquely NORP fac...         Chinese"
      ],
      "text/html": [
       "<div>\n",
       "<style scoped>\n",
       "    .dataframe tbody tr th:only-of-type {\n",
       "        vertical-align: middle;\n",
       "    }\n",
       "\n",
       "    .dataframe tbody tr th {\n",
       "        vertical-align: top;\n",
       "    }\n",
       "\n",
       "    .dataframe thead th {\n",
       "        text-align: right;\n",
       "    }\n",
       "</style>\n",
       "<table border=\"1\" class=\"dataframe\">\n",
       "  <thead>\n",
       "    <tr style=\"text-align: right;\">\n",
       "      <th></th>\n",
       "      <th>comments</th>\n",
       "      <th>native_language</th>\n",
       "    </tr>\n",
       "  </thead>\n",
       "  <tbody>\n",
       "    <tr>\n",
       "      <th>0</th>\n",
       "      <td>she was born , lived and died on these soils w...</td>\n",
       "      <td>Chinese</td>\n",
       "    </tr>\n",
       "    <tr>\n",
       "      <th>1</th>\n",
       "      <td>her books are a waste of time .</td>\n",
       "      <td>Chinese</td>\n",
       "    </tr>\n",
       "    <tr>\n",
       "      <th>2</th>\n",
       "      <td>here 's a previous thread where i posted the s...</td>\n",
       "      <td>Chinese</td>\n",
       "    </tr>\n",
       "    <tr>\n",
       "      <th>3</th>\n",
       "      <td>NORP are from GPE which is not in LOC</td>\n",
       "      <td>Chinese</td>\n",
       "    </tr>\n",
       "    <tr>\n",
       "      <th>4</th>\n",
       "      <td>GPE tries to heavily promote uniquely NORP fac...</td>\n",
       "      <td>Chinese</td>\n",
       "    </tr>\n",
       "  </tbody>\n",
       "</table>\n",
       "</div>"
      ]
     },
     "execution_count": 198,
     "metadata": {},
     "output_type": "execute_result"
    }
   ],
   "execution_count": 198
  },
  {
   "cell_type": "markdown",
   "source": [
    "The Reddit L2 is pretty big so let's just take a random n=1500 (approximately 2%) of it to test and see..."
   ],
   "metadata": {
    "id": "I6HRDXVUFG7v"
   }
  },
  {
   "cell_type": "code",
   "source": [
    "reddit_sample = reddit.sample(n=1500)\n",
    "len(reddit_sample)"
   ],
   "metadata": {
    "colab": {
     "base_uri": "https://localhost:8080/"
    },
    "id": "iEvbB6ulFFeT",
    "outputId": "fd9a5e51-9ea4-4804-a70d-f8044882f94b",
    "ExecuteTime": {
     "end_time": "2024-12-13T17:01:04.269458Z",
     "start_time": "2024-12-13T17:01:04.258781Z"
    }
   },
   "outputs": [
    {
     "data": {
      "text/plain": [
       "1500"
      ]
     },
     "execution_count": 199,
     "metadata": {},
     "output_type": "execute_result"
    }
   ],
   "execution_count": 199
  },
  {
   "cell_type": "code",
   "source": [
    "# Test Reddit L2 dataset with the model & evaluate accuracy\n",
    "\n",
    "def predict_l1(text, model, tokenizer, device, max_length=64):\n",
    "    model.eval()\n",
    "    text_encoded = tokenizer(text, return_tensors='pt', max_length=max_length, padding='max_length', truncation=True)\n",
    "    input_ids = text_encoded['input_ids'].to(device)\n",
    "    attention_masks = text_encoded['attention_mask'].to(device)\n",
    "\n",
    "    with torch.no_grad():\n",
    "        output = model(input_ids, attention_masks)\n",
    "        output = output.float()\n",
    "        predicted = output.argmax(dim = 1).item()   # Predicted class label\n",
    "\n",
    "    return predicted"
   ],
   "metadata": {
    "id": "ehLiF-de8XuN",
    "ExecuteTime": {
     "end_time": "2024-12-13T17:01:04.313024Z",
     "start_time": "2024-12-13T17:01:04.310547Z"
    }
   },
   "outputs": [],
   "execution_count": 200
  },
  {
   "cell_type": "code",
   "source": [
    "correct = 0\n",
    "total = len(reddit_sample)\n",
    "\n",
    "for row in tqdm(reddit_sample.itertuples()):\n",
    "    predicted = predict_l1(row.comments, model, bert_tokenizer, device)\n",
    "    predicted = decode_l1[predicted]\n",
    "\n",
    "    if predicted == row.native_language:\n",
    "        correct += 1\n",
    "\n",
    "print(f'Accuracy on Reddit L2 sample: {correct/total:.3f}')"
   ],
   "metadata": {
    "colab": {
     "base_uri": "https://localhost:8080/"
    },
    "id": "SJhTBvOADH0p",
    "outputId": "232fa236-62f4-48b4-a737-b5a0f894c4e2",
    "ExecuteTime": {
     "end_time": "2024-12-13T17:01:45.749296Z",
     "start_time": "2024-12-13T17:01:04.355404Z"
    }
   },
   "outputs": [
    {
     "name": "stderr",
     "output_type": "stream",
     "text": [
      "0it [00:00, ?it/s]/var/folders/k4/0qlr7kps5m9fslp8sm9s9ds00000gn/T/ipykernel_92473/345369206.py:46: UserWarning: Implicit dimension choice for softmax has been deprecated. Change the call to include dim=X as an argument.\n",
      "  x = f.softmax(self.fc2(x))  # Output layer: multi-class classification\n",
      "1500it [00:41, 36.24it/s]"
     ]
    },
    {
     "name": "stdout",
     "output_type": "stream",
     "text": [
      "Accuracy on Reddit L2 sample: 0.167\n"
     ]
    },
    {
     "name": "stderr",
     "output_type": "stream",
     "text": [
      "\n"
     ]
    }
   ],
   "execution_count": 201
  },
  {
   "cell_type": "markdown",
   "source": [
    "## Comparison: Baseline models"
   ],
   "metadata": {
    "id": "uLIIVEaMRyCb"
   }
  },
  {
   "cell_type": "markdown",
   "source": [
    "To compare the performance of the neural network with BERT embeddings as input, we'll also make several different logistic regression models."
   ],
   "metadata": {
    "id": "uTtsi3QKWVKa"
   }
  },
  {
   "cell_type": "markdown",
   "source": [
    "### 2) Logistic regression model (Bag of words model with CountVectorizer)"
   ],
   "metadata": {
    "id": "HwCyP3LN98A7"
   }
  },
  {
   "cell_type": "markdown",
   "source": [
    "This will be a bag of words model using `CountVectorizer`. However, instead of feeding it into a neural network, we'll feed it into a multinomial logistic regression model (optimized for multi-class classification)."
   ],
   "metadata": {
    "id": "-JxXB5y--A-i"
   }
  },
  {
   "cell_type": "code",
   "source": [
    "# Import relevant packages\n",
    "\n",
    "from sklearn.linear_model import LogisticRegression\n",
    "from sklearn.feature_extraction.text import CountVectorizer"
   ],
   "metadata": {
    "id": "IUroBirWwS8E",
    "ExecuteTime": {
     "end_time": "2024-12-13T17:01:45.774411Z",
     "start_time": "2024-12-13T17:01:45.772096Z"
    }
   },
   "outputs": [],
   "execution_count": 202
  },
  {
   "cell_type": "code",
   "source": [
    "### Alternate train_test_split_by_students() function\n",
    "### for Multi-class Logistic regression, which takes a single column as output\n",
    "\n",
    "def train_test_split_by_students(df, train_size=0.8, test_size=0.1, val_size=0.1):\n",
    "    # By default, we set aside 80% of data for training, 10% for testing, and 10% for validation\n",
    "    assert train_size + test_size + val_size == 1\n",
    "\n",
    "    # Split students\n",
    "    students = np.unique(df['filename'])\n",
    "    students_train, students_temp = train_test_split(students, test_size=(test_size + val_size), random_state=1000)\n",
    "    students_test, students_val = train_test_split(students_temp, test_size=(val_size / (test_size + val_size)), random_state=1000)\n",
    "    print(f\"Number of Students in Train: {students_train.size}, Test: {students_test.size}, Validation: {students_val.size}\")\n",
    "\n",
    "    # Split the data by students\n",
    "    train = df[df['filename'].isin(students_train)]\n",
    "    test = df[df['filename'].isin(students_test)]\n",
    "    val = df[df['filename'].isin(students_val)]\n",
    "\n",
    "    # Input feature and Output\n",
    "    feature = ['answer']\n",
    "    output = ['native_language']\n",
    "    X_train, X_test, X_val = train[feature], test[feature], val[feature]\n",
    "    y_train, y_test, y_val = train[output], test[output], val[output]\n",
    "\n",
    "    print(f\"Training Size: {len(X_train)}, Test Size: {len(X_test)}, Validation Size: {len(X_val)}\")\n",
    "\n",
    "    return X_train, X_test, X_val, y_train, y_test, y_val"
   ],
   "metadata": {
    "id": "R_ouaKaHEHzw",
    "ExecuteTime": {
     "end_time": "2024-12-13T17:01:45.794858Z",
     "start_time": "2024-12-13T17:01:45.790402Z"
    }
   },
   "outputs": [],
   "execution_count": 203
  },
  {
   "cell_type": "code",
   "source": [
    "## Create train/test sets for logistic regression\n",
    "\n",
    "X_train, X_test, X_val, y_train, y_test, y_val = train_test_split_by_students(df = data, train_size=0.8, test_size=0.1, val_size=0.1)"
   ],
   "metadata": {
    "colab": {
     "base_uri": "https://localhost:8080/"
    },
    "id": "EljDToF-EfSX",
    "outputId": "d672ced8-bd45-412c-893d-d81984d17edd",
    "ExecuteTime": {
     "end_time": "2024-12-13T17:01:45.820634Z",
     "start_time": "2024-12-13T17:01:45.810021Z"
    }
   },
   "outputs": [
    {
     "name": "stdout",
     "output_type": "stream",
     "text": [
      "Number of Students in Train: 493, Test: 62, Validation: 62\n",
      "Training Size: 980, Test Size: 124, Validation Size: 124\n"
     ]
    }
   ],
   "execution_count": 204
  },
  {
   "cell_type": "code",
   "source": [
    "# vectorize the training data\n",
    "vectorizer = CountVectorizer(stop_words = \"english\")\n",
    "X_train_lr = vectorizer.fit_transform(X_train[\"answer\"])\n",
    "X_test_lr = vectorizer.transform(X_test[\"answer\"])"
   ],
   "metadata": {
    "id": "UkPFseKbCPnf",
    "ExecuteTime": {
     "end_time": "2024-12-13T17:01:45.906077Z",
     "start_time": "2024-12-13T17:01:45.834240Z"
    }
   },
   "outputs": [],
   "execution_count": 205
  },
  {
   "cell_type": "code",
   "source": [
    "# Do some more processing\n",
    "\n",
    "y_train_lr = y_train[\"native_language\"] #.map(encode_l1)\n",
    "\n",
    "# Fit the logistic regression model\n",
    "\n",
    "lr_model = LogisticRegression(random_state = 3, multi_class='multinomial', solver='lbfgs')\n",
    "lr_model.fit(X_train_lr, y_train_lr)"
   ],
   "metadata": {
    "colab": {
     "base_uri": "https://localhost:8080/",
     "height": 134
    },
    "id": "2DIOICHSwchm",
    "outputId": "6c737329-bef4-4b32-8596-2b7f64e01538",
    "ExecuteTime": {
     "end_time": "2024-12-13T17:01:46.245266Z",
     "start_time": "2024-12-13T17:01:45.921948Z"
    }
   },
   "outputs": [
    {
     "name": "stderr",
     "output_type": "stream",
     "text": [
      "/Users/anjieliu/Library/Mobile Documents/com~apple~CloudDocs/Documents/MyUT/Year3/Fall2024/LIN 371 Machine Learning for Text Analysis/LIN371_Project/.venv/lib/python3.9/site-packages/sklearn/linear_model/_logistic.py:1247: FutureWarning: 'multi_class' was deprecated in version 1.5 and will be removed in 1.7. From then on, it will always use 'multinomial'. Leave it to its default value to avoid this warning.\n",
      "  warnings.warn(\n"
     ]
    },
    {
     "data": {
      "text/plain": [
       "LogisticRegression(multi_class='multinomial', random_state=3)"
      ],
      "text/html": [
       "<style>#sk-container-id-5 {\n",
       "  /* Definition of color scheme common for light and dark mode */\n",
       "  --sklearn-color-text: black;\n",
       "  --sklearn-color-line: gray;\n",
       "  /* Definition of color scheme for unfitted estimators */\n",
       "  --sklearn-color-unfitted-level-0: #fff5e6;\n",
       "  --sklearn-color-unfitted-level-1: #f6e4d2;\n",
       "  --sklearn-color-unfitted-level-2: #ffe0b3;\n",
       "  --sklearn-color-unfitted-level-3: chocolate;\n",
       "  /* Definition of color scheme for fitted estimators */\n",
       "  --sklearn-color-fitted-level-0: #f0f8ff;\n",
       "  --sklearn-color-fitted-level-1: #d4ebff;\n",
       "  --sklearn-color-fitted-level-2: #b3dbfd;\n",
       "  --sklearn-color-fitted-level-3: cornflowerblue;\n",
       "\n",
       "  /* Specific color for light theme */\n",
       "  --sklearn-color-text-on-default-background: var(--sg-text-color, var(--theme-code-foreground, var(--jp-content-font-color1, black)));\n",
       "  --sklearn-color-background: var(--sg-background-color, var(--theme-background, var(--jp-layout-color0, white)));\n",
       "  --sklearn-color-border-box: var(--sg-text-color, var(--theme-code-foreground, var(--jp-content-font-color1, black)));\n",
       "  --sklearn-color-icon: #696969;\n",
       "\n",
       "  @media (prefers-color-scheme: dark) {\n",
       "    /* Redefinition of color scheme for dark theme */\n",
       "    --sklearn-color-text-on-default-background: var(--sg-text-color, var(--theme-code-foreground, var(--jp-content-font-color1, white)));\n",
       "    --sklearn-color-background: var(--sg-background-color, var(--theme-background, var(--jp-layout-color0, #111)));\n",
       "    --sklearn-color-border-box: var(--sg-text-color, var(--theme-code-foreground, var(--jp-content-font-color1, white)));\n",
       "    --sklearn-color-icon: #878787;\n",
       "  }\n",
       "}\n",
       "\n",
       "#sk-container-id-5 {\n",
       "  color: var(--sklearn-color-text);\n",
       "}\n",
       "\n",
       "#sk-container-id-5 pre {\n",
       "  padding: 0;\n",
       "}\n",
       "\n",
       "#sk-container-id-5 input.sk-hidden--visually {\n",
       "  border: 0;\n",
       "  clip: rect(1px 1px 1px 1px);\n",
       "  clip: rect(1px, 1px, 1px, 1px);\n",
       "  height: 1px;\n",
       "  margin: -1px;\n",
       "  overflow: hidden;\n",
       "  padding: 0;\n",
       "  position: absolute;\n",
       "  width: 1px;\n",
       "}\n",
       "\n",
       "#sk-container-id-5 div.sk-dashed-wrapped {\n",
       "  border: 1px dashed var(--sklearn-color-line);\n",
       "  margin: 0 0.4em 0.5em 0.4em;\n",
       "  box-sizing: border-box;\n",
       "  padding-bottom: 0.4em;\n",
       "  background-color: var(--sklearn-color-background);\n",
       "}\n",
       "\n",
       "#sk-container-id-5 div.sk-container {\n",
       "  /* jupyter's `normalize.less` sets `[hidden] { display: none; }`\n",
       "     but bootstrap.min.css set `[hidden] { display: none !important; }`\n",
       "     so we also need the `!important` here to be able to override the\n",
       "     default hidden behavior on the sphinx rendered scikit-learn.org.\n",
       "     See: https://github.com/scikit-learn/scikit-learn/issues/21755 */\n",
       "  display: inline-block !important;\n",
       "  position: relative;\n",
       "}\n",
       "\n",
       "#sk-container-id-5 div.sk-text-repr-fallback {\n",
       "  display: none;\n",
       "}\n",
       "\n",
       "div.sk-parallel-item,\n",
       "div.sk-serial,\n",
       "div.sk-item {\n",
       "  /* draw centered vertical line to link estimators */\n",
       "  background-image: linear-gradient(var(--sklearn-color-text-on-default-background), var(--sklearn-color-text-on-default-background));\n",
       "  background-size: 2px 100%;\n",
       "  background-repeat: no-repeat;\n",
       "  background-position: center center;\n",
       "}\n",
       "\n",
       "/* Parallel-specific style estimator block */\n",
       "\n",
       "#sk-container-id-5 div.sk-parallel-item::after {\n",
       "  content: \"\";\n",
       "  width: 100%;\n",
       "  border-bottom: 2px solid var(--sklearn-color-text-on-default-background);\n",
       "  flex-grow: 1;\n",
       "}\n",
       "\n",
       "#sk-container-id-5 div.sk-parallel {\n",
       "  display: flex;\n",
       "  align-items: stretch;\n",
       "  justify-content: center;\n",
       "  background-color: var(--sklearn-color-background);\n",
       "  position: relative;\n",
       "}\n",
       "\n",
       "#sk-container-id-5 div.sk-parallel-item {\n",
       "  display: flex;\n",
       "  flex-direction: column;\n",
       "}\n",
       "\n",
       "#sk-container-id-5 div.sk-parallel-item:first-child::after {\n",
       "  align-self: flex-end;\n",
       "  width: 50%;\n",
       "}\n",
       "\n",
       "#sk-container-id-5 div.sk-parallel-item:last-child::after {\n",
       "  align-self: flex-start;\n",
       "  width: 50%;\n",
       "}\n",
       "\n",
       "#sk-container-id-5 div.sk-parallel-item:only-child::after {\n",
       "  width: 0;\n",
       "}\n",
       "\n",
       "/* Serial-specific style estimator block */\n",
       "\n",
       "#sk-container-id-5 div.sk-serial {\n",
       "  display: flex;\n",
       "  flex-direction: column;\n",
       "  align-items: center;\n",
       "  background-color: var(--sklearn-color-background);\n",
       "  padding-right: 1em;\n",
       "  padding-left: 1em;\n",
       "}\n",
       "\n",
       "\n",
       "/* Toggleable style: style used for estimator/Pipeline/ColumnTransformer box that is\n",
       "clickable and can be expanded/collapsed.\n",
       "- Pipeline and ColumnTransformer use this feature and define the default style\n",
       "- Estimators will overwrite some part of the style using the `sk-estimator` class\n",
       "*/\n",
       "\n",
       "/* Pipeline and ColumnTransformer style (default) */\n",
       "\n",
       "#sk-container-id-5 div.sk-toggleable {\n",
       "  /* Default theme specific background. It is overwritten whether we have a\n",
       "  specific estimator or a Pipeline/ColumnTransformer */\n",
       "  background-color: var(--sklearn-color-background);\n",
       "}\n",
       "\n",
       "/* Toggleable label */\n",
       "#sk-container-id-5 label.sk-toggleable__label {\n",
       "  cursor: pointer;\n",
       "  display: block;\n",
       "  width: 100%;\n",
       "  margin-bottom: 0;\n",
       "  padding: 0.5em;\n",
       "  box-sizing: border-box;\n",
       "  text-align: center;\n",
       "}\n",
       "\n",
       "#sk-container-id-5 label.sk-toggleable__label-arrow:before {\n",
       "  /* Arrow on the left of the label */\n",
       "  content: \"▸\";\n",
       "  float: left;\n",
       "  margin-right: 0.25em;\n",
       "  color: var(--sklearn-color-icon);\n",
       "}\n",
       "\n",
       "#sk-container-id-5 label.sk-toggleable__label-arrow:hover:before {\n",
       "  color: var(--sklearn-color-text);\n",
       "}\n",
       "\n",
       "/* Toggleable content - dropdown */\n",
       "\n",
       "#sk-container-id-5 div.sk-toggleable__content {\n",
       "  max-height: 0;\n",
       "  max-width: 0;\n",
       "  overflow: hidden;\n",
       "  text-align: left;\n",
       "  /* unfitted */\n",
       "  background-color: var(--sklearn-color-unfitted-level-0);\n",
       "}\n",
       "\n",
       "#sk-container-id-5 div.sk-toggleable__content.fitted {\n",
       "  /* fitted */\n",
       "  background-color: var(--sklearn-color-fitted-level-0);\n",
       "}\n",
       "\n",
       "#sk-container-id-5 div.sk-toggleable__content pre {\n",
       "  margin: 0.2em;\n",
       "  border-radius: 0.25em;\n",
       "  color: var(--sklearn-color-text);\n",
       "  /* unfitted */\n",
       "  background-color: var(--sklearn-color-unfitted-level-0);\n",
       "}\n",
       "\n",
       "#sk-container-id-5 div.sk-toggleable__content.fitted pre {\n",
       "  /* unfitted */\n",
       "  background-color: var(--sklearn-color-fitted-level-0);\n",
       "}\n",
       "\n",
       "#sk-container-id-5 input.sk-toggleable__control:checked~div.sk-toggleable__content {\n",
       "  /* Expand drop-down */\n",
       "  max-height: 200px;\n",
       "  max-width: 100%;\n",
       "  overflow: auto;\n",
       "}\n",
       "\n",
       "#sk-container-id-5 input.sk-toggleable__control:checked~label.sk-toggleable__label-arrow:before {\n",
       "  content: \"▾\";\n",
       "}\n",
       "\n",
       "/* Pipeline/ColumnTransformer-specific style */\n",
       "\n",
       "#sk-container-id-5 div.sk-label input.sk-toggleable__control:checked~label.sk-toggleable__label {\n",
       "  color: var(--sklearn-color-text);\n",
       "  background-color: var(--sklearn-color-unfitted-level-2);\n",
       "}\n",
       "\n",
       "#sk-container-id-5 div.sk-label.fitted input.sk-toggleable__control:checked~label.sk-toggleable__label {\n",
       "  background-color: var(--sklearn-color-fitted-level-2);\n",
       "}\n",
       "\n",
       "/* Estimator-specific style */\n",
       "\n",
       "/* Colorize estimator box */\n",
       "#sk-container-id-5 div.sk-estimator input.sk-toggleable__control:checked~label.sk-toggleable__label {\n",
       "  /* unfitted */\n",
       "  background-color: var(--sklearn-color-unfitted-level-2);\n",
       "}\n",
       "\n",
       "#sk-container-id-5 div.sk-estimator.fitted input.sk-toggleable__control:checked~label.sk-toggleable__label {\n",
       "  /* fitted */\n",
       "  background-color: var(--sklearn-color-fitted-level-2);\n",
       "}\n",
       "\n",
       "#sk-container-id-5 div.sk-label label.sk-toggleable__label,\n",
       "#sk-container-id-5 div.sk-label label {\n",
       "  /* The background is the default theme color */\n",
       "  color: var(--sklearn-color-text-on-default-background);\n",
       "}\n",
       "\n",
       "/* On hover, darken the color of the background */\n",
       "#sk-container-id-5 div.sk-label:hover label.sk-toggleable__label {\n",
       "  color: var(--sklearn-color-text);\n",
       "  background-color: var(--sklearn-color-unfitted-level-2);\n",
       "}\n",
       "\n",
       "/* Label box, darken color on hover, fitted */\n",
       "#sk-container-id-5 div.sk-label.fitted:hover label.sk-toggleable__label.fitted {\n",
       "  color: var(--sklearn-color-text);\n",
       "  background-color: var(--sklearn-color-fitted-level-2);\n",
       "}\n",
       "\n",
       "/* Estimator label */\n",
       "\n",
       "#sk-container-id-5 div.sk-label label {\n",
       "  font-family: monospace;\n",
       "  font-weight: bold;\n",
       "  display: inline-block;\n",
       "  line-height: 1.2em;\n",
       "}\n",
       "\n",
       "#sk-container-id-5 div.sk-label-container {\n",
       "  text-align: center;\n",
       "}\n",
       "\n",
       "/* Estimator-specific */\n",
       "#sk-container-id-5 div.sk-estimator {\n",
       "  font-family: monospace;\n",
       "  border: 1px dotted var(--sklearn-color-border-box);\n",
       "  border-radius: 0.25em;\n",
       "  box-sizing: border-box;\n",
       "  margin-bottom: 0.5em;\n",
       "  /* unfitted */\n",
       "  background-color: var(--sklearn-color-unfitted-level-0);\n",
       "}\n",
       "\n",
       "#sk-container-id-5 div.sk-estimator.fitted {\n",
       "  /* fitted */\n",
       "  background-color: var(--sklearn-color-fitted-level-0);\n",
       "}\n",
       "\n",
       "/* on hover */\n",
       "#sk-container-id-5 div.sk-estimator:hover {\n",
       "  /* unfitted */\n",
       "  background-color: var(--sklearn-color-unfitted-level-2);\n",
       "}\n",
       "\n",
       "#sk-container-id-5 div.sk-estimator.fitted:hover {\n",
       "  /* fitted */\n",
       "  background-color: var(--sklearn-color-fitted-level-2);\n",
       "}\n",
       "\n",
       "/* Specification for estimator info (e.g. \"i\" and \"?\") */\n",
       "\n",
       "/* Common style for \"i\" and \"?\" */\n",
       "\n",
       ".sk-estimator-doc-link,\n",
       "a:link.sk-estimator-doc-link,\n",
       "a:visited.sk-estimator-doc-link {\n",
       "  float: right;\n",
       "  font-size: smaller;\n",
       "  line-height: 1em;\n",
       "  font-family: monospace;\n",
       "  background-color: var(--sklearn-color-background);\n",
       "  border-radius: 1em;\n",
       "  height: 1em;\n",
       "  width: 1em;\n",
       "  text-decoration: none !important;\n",
       "  margin-left: 1ex;\n",
       "  /* unfitted */\n",
       "  border: var(--sklearn-color-unfitted-level-1) 1pt solid;\n",
       "  color: var(--sklearn-color-unfitted-level-1);\n",
       "}\n",
       "\n",
       ".sk-estimator-doc-link.fitted,\n",
       "a:link.sk-estimator-doc-link.fitted,\n",
       "a:visited.sk-estimator-doc-link.fitted {\n",
       "  /* fitted */\n",
       "  border: var(--sklearn-color-fitted-level-1) 1pt solid;\n",
       "  color: var(--sklearn-color-fitted-level-1);\n",
       "}\n",
       "\n",
       "/* On hover */\n",
       "div.sk-estimator:hover .sk-estimator-doc-link:hover,\n",
       ".sk-estimator-doc-link:hover,\n",
       "div.sk-label-container:hover .sk-estimator-doc-link:hover,\n",
       ".sk-estimator-doc-link:hover {\n",
       "  /* unfitted */\n",
       "  background-color: var(--sklearn-color-unfitted-level-3);\n",
       "  color: var(--sklearn-color-background);\n",
       "  text-decoration: none;\n",
       "}\n",
       "\n",
       "div.sk-estimator.fitted:hover .sk-estimator-doc-link.fitted:hover,\n",
       ".sk-estimator-doc-link.fitted:hover,\n",
       "div.sk-label-container:hover .sk-estimator-doc-link.fitted:hover,\n",
       ".sk-estimator-doc-link.fitted:hover {\n",
       "  /* fitted */\n",
       "  background-color: var(--sklearn-color-fitted-level-3);\n",
       "  color: var(--sklearn-color-background);\n",
       "  text-decoration: none;\n",
       "}\n",
       "\n",
       "/* Span, style for the box shown on hovering the info icon */\n",
       ".sk-estimator-doc-link span {\n",
       "  display: none;\n",
       "  z-index: 9999;\n",
       "  position: relative;\n",
       "  font-weight: normal;\n",
       "  right: .2ex;\n",
       "  padding: .5ex;\n",
       "  margin: .5ex;\n",
       "  width: min-content;\n",
       "  min-width: 20ex;\n",
       "  max-width: 50ex;\n",
       "  color: var(--sklearn-color-text);\n",
       "  box-shadow: 2pt 2pt 4pt #999;\n",
       "  /* unfitted */\n",
       "  background: var(--sklearn-color-unfitted-level-0);\n",
       "  border: .5pt solid var(--sklearn-color-unfitted-level-3);\n",
       "}\n",
       "\n",
       ".sk-estimator-doc-link.fitted span {\n",
       "  /* fitted */\n",
       "  background: var(--sklearn-color-fitted-level-0);\n",
       "  border: var(--sklearn-color-fitted-level-3);\n",
       "}\n",
       "\n",
       ".sk-estimator-doc-link:hover span {\n",
       "  display: block;\n",
       "}\n",
       "\n",
       "/* \"?\"-specific style due to the `<a>` HTML tag */\n",
       "\n",
       "#sk-container-id-5 a.estimator_doc_link {\n",
       "  float: right;\n",
       "  font-size: 1rem;\n",
       "  line-height: 1em;\n",
       "  font-family: monospace;\n",
       "  background-color: var(--sklearn-color-background);\n",
       "  border-radius: 1rem;\n",
       "  height: 1rem;\n",
       "  width: 1rem;\n",
       "  text-decoration: none;\n",
       "  /* unfitted */\n",
       "  color: var(--sklearn-color-unfitted-level-1);\n",
       "  border: var(--sklearn-color-unfitted-level-1) 1pt solid;\n",
       "}\n",
       "\n",
       "#sk-container-id-5 a.estimator_doc_link.fitted {\n",
       "  /* fitted */\n",
       "  border: var(--sklearn-color-fitted-level-1) 1pt solid;\n",
       "  color: var(--sklearn-color-fitted-level-1);\n",
       "}\n",
       "\n",
       "/* On hover */\n",
       "#sk-container-id-5 a.estimator_doc_link:hover {\n",
       "  /* unfitted */\n",
       "  background-color: var(--sklearn-color-unfitted-level-3);\n",
       "  color: var(--sklearn-color-background);\n",
       "  text-decoration: none;\n",
       "}\n",
       "\n",
       "#sk-container-id-5 a.estimator_doc_link.fitted:hover {\n",
       "  /* fitted */\n",
       "  background-color: var(--sklearn-color-fitted-level-3);\n",
       "}\n",
       "</style><div id=\"sk-container-id-5\" class=\"sk-top-container\"><div class=\"sk-text-repr-fallback\"><pre>LogisticRegression(multi_class=&#x27;multinomial&#x27;, random_state=3)</pre><b>In a Jupyter environment, please rerun this cell to show the HTML representation or trust the notebook. <br />On GitHub, the HTML representation is unable to render, please try loading this page with nbviewer.org.</b></div><div class=\"sk-container\" hidden><div class=\"sk-item\"><div class=\"sk-estimator fitted sk-toggleable\"><input class=\"sk-toggleable__control sk-hidden--visually\" id=\"sk-estimator-id-5\" type=\"checkbox\" checked><label for=\"sk-estimator-id-5\" class=\"sk-toggleable__label fitted sk-toggleable__label-arrow fitted\">&nbsp;&nbsp;LogisticRegression<a class=\"sk-estimator-doc-link fitted\" rel=\"noreferrer\" target=\"_blank\" href=\"https://scikit-learn.org/1.5/modules/generated/sklearn.linear_model.LogisticRegression.html\">?<span>Documentation for LogisticRegression</span></a><span class=\"sk-estimator-doc-link fitted\">i<span>Fitted</span></span></label><div class=\"sk-toggleable__content fitted\"><pre>LogisticRegression(multi_class=&#x27;multinomial&#x27;, random_state=3)</pre></div> </div></div></div></div>"
      ]
     },
     "execution_count": 206,
     "metadata": {},
     "output_type": "execute_result"
    }
   ],
   "execution_count": 206
  },
  {
   "cell_type": "code",
   "source": [
    "# Evaluate the model\n",
    "y_test_lr = y_test[\"native_language\"] #.map(encode_l1)\n",
    "y_hat_lr = lr_model.predict(X_test_lr)\n",
    "\n",
    "# Classification report on testing data\n",
    "print(\"classification report (testing):\\n\", classification_report(y_test_lr, y_hat_lr))"
   ],
   "metadata": {
    "colab": {
     "base_uri": "https://localhost:8080/"
    },
    "id": "MYlMA4_bwsKH",
    "outputId": "68310667-ab55-4273-858d-cdfffbfabc67",
    "ExecuteTime": {
     "end_time": "2024-12-13T17:01:46.288996Z",
     "start_time": "2024-12-13T17:01:46.276263Z"
    }
   },
   "outputs": [
    {
     "name": "stdout",
     "output_type": "stream",
     "text": [
      "classification report (testing):\n",
      "               precision    recall  f1-score   support\n",
      "\n",
      "     Chinese       0.50      0.28      0.36        18\n",
      "      French       0.39      0.43      0.41        28\n",
      "      German       0.10      0.06      0.08        16\n",
      "       Greek       0.30      0.19      0.23        16\n",
      "  Portuguese       0.50      0.29      0.36        14\n",
      "     Spanish       0.44      0.75      0.55        32\n",
      "\n",
      "    accuracy                           0.40       124\n",
      "   macro avg       0.37      0.33      0.33       124\n",
      "weighted avg       0.38      0.40      0.37       124\n",
      "\n"
     ]
    }
   ],
   "execution_count": 207
  },
  {
   "cell_type": "code",
   "source": [
    "# Plot a confusion matrix\n",
    "\n",
    "create_cm(y_test_lr, y_hat_lr)"
   ],
   "metadata": {
    "id": "n4Ca8krYk0QP",
    "colab": {
     "base_uri": "https://localhost:8080/",
     "height": 514
    },
    "outputId": "1ddee585-c73e-4bb9-c767-2c3fa04507d2",
    "ExecuteTime": {
     "end_time": "2024-12-13T17:01:46.502926Z",
     "start_time": "2024-12-13T17:01:46.316069Z"
    }
   },
   "outputs": [
    {
     "data": {
      "text/plain": [
       "<Figure size 640x480 with 2 Axes>"
      ],
      "image/png": "[encoded data removed]"
     },
     "metadata": {},
     "output_type": "display_data"
    }
   ],
   "execution_count": 208
  },
  {
   "cell_type": "markdown",
   "source": [
    "#### Weighted logistic regression for imbalanced dataset"
   ],
   "metadata": {
    "id": "xuUHmTf-j5RH"
   }
  },
  {
   "cell_type": "markdown",
   "source": [
    "As we see in the report above, the classes we are predicting are not balanced. The high accuracy we see on Spanish specifically could just be due to there being more samples in the training dataset for these two languages. Thus, we should employ downweighting and overweighting techniques to adjust for this, and see what our accuracy is like afterwards. We will actually just weight the classes when computing the loss in the logistic regression by setting the `class_weight` parameter to `\"balanced\"`."
   ],
   "metadata": {
    "id": "zquWzwUgj973"
   }
  },
  {
   "cell_type": "code",
   "source": [
    "y_train.shape"
   ],
   "metadata": {
    "colab": {
     "base_uri": "https://localhost:8080/"
    },
    "id": "Mo73qlF9vDVb",
    "outputId": "c9ad9fd9-595a-44d1-d2de-39de9f61e808",
    "ExecuteTime": {
     "end_time": "2024-12-13T17:01:46.522702Z",
     "start_time": "2024-12-13T17:01:46.520206Z"
    }
   },
   "outputs": [
    {
     "data": {
      "text/plain": [
       "(980, 1)"
      ]
     },
     "execution_count": 209,
     "metadata": {},
     "output_type": "execute_result"
    }
   ],
   "execution_count": 209
  },
  {
   "cell_type": "code",
   "source": [
    "y_train.groupby(\"native_language\").size()"
   ],
   "metadata": {
    "colab": {
     "base_uri": "https://localhost:8080/",
     "height": 300
    },
    "id": "VEbw_Qk9wQQC",
    "outputId": "a35539d8-26f2-491e-8445-cb1316845a48",
    "ExecuteTime": {
     "end_time": "2024-12-13T17:01:46.539282Z",
     "start_time": "2024-12-13T17:01:46.535696Z"
    }
   },
   "outputs": [
    {
     "data": {
      "text/plain": [
       "native_language\n",
       "Chinese        97\n",
       "French        236\n",
       "German         95\n",
       "Greek         110\n",
       "Portuguese    108\n",
       "Spanish       334\n",
       "dtype: int64"
      ]
     },
     "execution_count": 210,
     "metadata": {},
     "output_type": "execute_result"
    }
   ],
   "execution_count": 210
  },
  {
   "cell_type": "code",
   "source": [
    "weighted_lr_model = LogisticRegression(random_state = 3, multi_class='multinomial', solver='lbfgs', class_weight = \"balanced\")\n",
    "weighted_lr_model.fit(X_train_lr, y_train_lr)"
   ],
   "metadata": {
    "colab": {
     "base_uri": "https://localhost:8080/",
     "height": 151
    },
    "id": "G1YzWE-Yj7_A",
    "outputId": "4571fd42-7bb9-4e9a-b14b-bb7455c78378",
    "ExecuteTime": {
     "end_time": "2024-12-13T17:01:47.245548Z",
     "start_time": "2024-12-13T17:01:46.571641Z"
    }
   },
   "outputs": [
    {
     "name": "stderr",
     "output_type": "stream",
     "text": [
      "/Users/anjieliu/Library/Mobile Documents/com~apple~CloudDocs/Documents/MyUT/Year3/Fall2024/LIN 371 Machine Learning for Text Analysis/LIN371_Project/.venv/lib/python3.9/site-packages/sklearn/linear_model/_logistic.py:1247: FutureWarning: 'multi_class' was deprecated in version 1.5 and will be removed in 1.7. From then on, it will always use 'multinomial'. Leave it to its default value to avoid this warning.\n",
      "  warnings.warn(\n"
     ]
    },
    {
     "data": {
      "text/plain": [
       "LogisticRegression(class_weight='balanced', multi_class='multinomial',\n",
       "                   random_state=3)"
      ],
      "text/html": [
       "<style>#sk-container-id-6 {\n",
       "  /* Definition of color scheme common for light and dark mode */\n",
       "  --sklearn-color-text: black;\n",
       "  --sklearn-color-line: gray;\n",
       "  /* Definition of color scheme for unfitted estimators */\n",
       "  --sklearn-color-unfitted-level-0: #fff5e6;\n",
       "  --sklearn-color-unfitted-level-1: #f6e4d2;\n",
       "  --sklearn-color-unfitted-level-2: #ffe0b3;\n",
       "  --sklearn-color-unfitted-level-3: chocolate;\n",
       "  /* Definition of color scheme for fitted estimators */\n",
       "  --sklearn-color-fitted-level-0: #f0f8ff;\n",
       "  --sklearn-color-fitted-level-1: #d4ebff;\n",
       "  --sklearn-color-fitted-level-2: #b3dbfd;\n",
       "  --sklearn-color-fitted-level-3: cornflowerblue;\n",
       "\n",
       "  /* Specific color for light theme */\n",
       "  --sklearn-color-text-on-default-background: var(--sg-text-color, var(--theme-code-foreground, var(--jp-content-font-color1, black)));\n",
       "  --sklearn-color-background: var(--sg-background-color, var(--theme-background, var(--jp-layout-color0, white)));\n",
       "  --sklearn-color-border-box: var(--sg-text-color, var(--theme-code-foreground, var(--jp-content-font-color1, black)));\n",
       "  --sklearn-color-icon: #696969;\n",
       "\n",
       "  @media (prefers-color-scheme: dark) {\n",
       "    /* Redefinition of color scheme for dark theme */\n",
       "    --sklearn-color-text-on-default-background: var(--sg-text-color, var(--theme-code-foreground, var(--jp-content-font-color1, white)));\n",
       "    --sklearn-color-background: var(--sg-background-color, var(--theme-background, var(--jp-layout-color0, #111)));\n",
       "    --sklearn-color-border-box: var(--sg-text-color, var(--theme-code-foreground, var(--jp-content-font-color1, white)));\n",
       "    --sklearn-color-icon: #878787;\n",
       "  }\n",
       "}\n",
       "\n",
       "#sk-container-id-6 {\n",
       "  color: var(--sklearn-color-text);\n",
       "}\n",
       "\n",
       "#sk-container-id-6 pre {\n",
       "  padding: 0;\n",
       "}\n",
       "\n",
       "#sk-container-id-6 input.sk-hidden--visually {\n",
       "  border: 0;\n",
       "  clip: rect(1px 1px 1px 1px);\n",
       "  clip: rect(1px, 1px, 1px, 1px);\n",
       "  height: 1px;\n",
       "  margin: -1px;\n",
       "  overflow: hidden;\n",
       "  padding: 0;\n",
       "  position: absolute;\n",
       "  width: 1px;\n",
       "}\n",
       "\n",
       "#sk-container-id-6 div.sk-dashed-wrapped {\n",
       "  border: 1px dashed var(--sklearn-color-line);\n",
       "  margin: 0 0.4em 0.5em 0.4em;\n",
       "  box-sizing: border-box;\n",
       "  padding-bottom: 0.4em;\n",
       "  background-color: var(--sklearn-color-background);\n",
       "}\n",
       "\n",
       "#sk-container-id-6 div.sk-container {\n",
       "  /* jupyter's `normalize.less` sets `[hidden] { display: none; }`\n",
       "     but bootstrap.min.css set `[hidden] { display: none !important; }`\n",
       "     so we also need the `!important` here to be able to override the\n",
       "     default hidden behavior on the sphinx rendered scikit-learn.org.\n",
       "     See: https://github.com/scikit-learn/scikit-learn/issues/21755 */\n",
       "  display: inline-block !important;\n",
       "  position: relative;\n",
       "}\n",
       "\n",
       "#sk-container-id-6 div.sk-text-repr-fallback {\n",
       "  display: none;\n",
       "}\n",
       "\n",
       "div.sk-parallel-item,\n",
       "div.sk-serial,\n",
       "div.sk-item {\n",
       "  /* draw centered vertical line to link estimators */\n",
       "  background-image: linear-gradient(var(--sklearn-color-text-on-default-background), var(--sklearn-color-text-on-default-background));\n",
       "  background-size: 2px 100%;\n",
       "  background-repeat: no-repeat;\n",
       "  background-position: center center;\n",
       "}\n",
       "\n",
       "/* Parallel-specific style estimator block */\n",
       "\n",
       "#sk-container-id-6 div.sk-parallel-item::after {\n",
       "  content: \"\";\n",
       "  width: 100%;\n",
       "  border-bottom: 2px solid var(--sklearn-color-text-on-default-background);\n",
       "  flex-grow: 1;\n",
       "}\n",
       "\n",
       "#sk-container-id-6 div.sk-parallel {\n",
       "  display: flex;\n",
       "  align-items: stretch;\n",
       "  justify-content: center;\n",
       "  background-color: var(--sklearn-color-background);\n",
       "  position: relative;\n",
       "}\n",
       "\n",
       "#sk-container-id-6 div.sk-parallel-item {\n",
       "  display: flex;\n",
       "  flex-direction: column;\n",
       "}\n",
       "\n",
       "#sk-container-id-6 div.sk-parallel-item:first-child::after {\n",
       "  align-self: flex-end;\n",
       "  width: 50%;\n",
       "}\n",
       "\n",
       "#sk-container-id-6 div.sk-parallel-item:last-child::after {\n",
       "  align-self: flex-start;\n",
       "  width: 50%;\n",
       "}\n",
       "\n",
       "#sk-container-id-6 div.sk-parallel-item:only-child::after {\n",
       "  width: 0;\n",
       "}\n",
       "\n",
       "/* Serial-specific style estimator block */\n",
       "\n",
       "#sk-container-id-6 div.sk-serial {\n",
       "  display: flex;\n",
       "  flex-direction: column;\n",
       "  align-items: center;\n",
       "  background-color: var(--sklearn-color-background);\n",
       "  padding-right: 1em;\n",
       "  padding-left: 1em;\n",
       "}\n",
       "\n",
       "\n",
       "/* Toggleable style: style used for estimator/Pipeline/ColumnTransformer box that is\n",
       "clickable and can be expanded/collapsed.\n",
       "- Pipeline and ColumnTransformer use this feature and define the default style\n",
       "- Estimators will overwrite some part of the style using the `sk-estimator` class\n",
       "*/\n",
       "\n",
       "/* Pipeline and ColumnTransformer style (default) */\n",
       "\n",
       "#sk-container-id-6 div.sk-toggleable {\n",
       "  /* Default theme specific background. It is overwritten whether we have a\n",
       "  specific estimator or a Pipeline/ColumnTransformer */\n",
       "  background-color: var(--sklearn-color-background);\n",
       "}\n",
       "\n",
       "/* Toggleable label */\n",
       "#sk-container-id-6 label.sk-toggleable__label {\n",
       "  cursor: pointer;\n",
       "  display: block;\n",
       "  width: 100%;\n",
       "  margin-bottom: 0;\n",
       "  padding: 0.5em;\n",
       "  box-sizing: border-box;\n",
       "  text-align: center;\n",
       "}\n",
       "\n",
       "#sk-container-id-6 label.sk-toggleable__label-arrow:before {\n",
       "  /* Arrow on the left of the label */\n",
       "  content: \"▸\";\n",
       "  float: left;\n",
       "  margin-right: 0.25em;\n",
       "  color: var(--sklearn-color-icon);\n",
       "}\n",
       "\n",
       "#sk-container-id-6 label.sk-toggleable__label-arrow:hover:before {\n",
       "  color: var(--sklearn-color-text);\n",
       "}\n",
       "\n",
       "/* Toggleable content - dropdown */\n",
       "\n",
       "#sk-container-id-6 div.sk-toggleable__content {\n",
       "  max-height: 0;\n",
       "  max-width: 0;\n",
       "  overflow: hidden;\n",
       "  text-align: left;\n",
       "  /* unfitted */\n",
       "  background-color: var(--sklearn-color-unfitted-level-0);\n",
       "}\n",
       "\n",
       "#sk-container-id-6 div.sk-toggleable__content.fitted {\n",
       "  /* fitted */\n",
       "  background-color: var(--sklearn-color-fitted-level-0);\n",
       "}\n",
       "\n",
       "#sk-container-id-6 div.sk-toggleable__content pre {\n",
       "  margin: 0.2em;\n",
       "  border-radius: 0.25em;\n",
       "  color: var(--sklearn-color-text);\n",
       "  /* unfitted */\n",
       "  background-color: var(--sklearn-color-unfitted-level-0);\n",
       "}\n",
       "\n",
       "#sk-container-id-6 div.sk-toggleable__content.fitted pre {\n",
       "  /* unfitted */\n",
       "  background-color: var(--sklearn-color-fitted-level-0);\n",
       "}\n",
       "\n",
       "#sk-container-id-6 input.sk-toggleable__control:checked~div.sk-toggleable__content {\n",
       "  /* Expand drop-down */\n",
       "  max-height: 200px;\n",
       "  max-width: 100%;\n",
       "  overflow: auto;\n",
       "}\n",
       "\n",
       "#sk-container-id-6 input.sk-toggleable__control:checked~label.sk-toggleable__label-arrow:before {\n",
       "  content: \"▾\";\n",
       "}\n",
       "\n",
       "/* Pipeline/ColumnTransformer-specific style */\n",
       "\n",
       "#sk-container-id-6 div.sk-label input.sk-toggleable__control:checked~label.sk-toggleable__label {\n",
       "  color: var(--sklearn-color-text);\n",
       "  background-color: var(--sklearn-color-unfitted-level-2);\n",
       "}\n",
       "\n",
       "#sk-container-id-6 div.sk-label.fitted input.sk-toggleable__control:checked~label.sk-toggleable__label {\n",
       "  background-color: var(--sklearn-color-fitted-level-2);\n",
       "}\n",
       "\n",
       "/* Estimator-specific style */\n",
       "\n",
       "/* Colorize estimator box */\n",
       "#sk-container-id-6 div.sk-estimator input.sk-toggleable__control:checked~label.sk-toggleable__label {\n",
       "  /* unfitted */\n",
       "  background-color: var(--sklearn-color-unfitted-level-2);\n",
       "}\n",
       "\n",
       "#sk-container-id-6 div.sk-estimator.fitted input.sk-toggleable__control:checked~label.sk-toggleable__label {\n",
       "  /* fitted */\n",
       "  background-color: var(--sklearn-color-fitted-level-2);\n",
       "}\n",
       "\n",
       "#sk-container-id-6 div.sk-label label.sk-toggleable__label,\n",
       "#sk-container-id-6 div.sk-label label {\n",
       "  /* The background is the default theme color */\n",
       "  color: var(--sklearn-color-text-on-default-background);\n",
       "}\n",
       "\n",
       "/* On hover, darken the color of the background */\n",
       "#sk-container-id-6 div.sk-label:hover label.sk-toggleable__label {\n",
       "  color: var(--sklearn-color-text);\n",
       "  background-color: var(--sklearn-color-unfitted-level-2);\n",
       "}\n",
       "\n",
       "/* Label box, darken color on hover, fitted */\n",
       "#sk-container-id-6 div.sk-label.fitted:hover label.sk-toggleable__label.fitted {\n",
       "  color: var(--sklearn-color-text);\n",
       "  background-color: var(--sklearn-color-fitted-level-2);\n",
       "}\n",
       "\n",
       "/* Estimator label */\n",
       "\n",
       "#sk-container-id-6 div.sk-label label {\n",
       "  font-family: monospace;\n",
       "  font-weight: bold;\n",
       "  display: inline-block;\n",
       "  line-height: 1.2em;\n",
       "}\n",
       "\n",
       "#sk-container-id-6 div.sk-label-container {\n",
       "  text-align: center;\n",
       "}\n",
       "\n",
       "/* Estimator-specific */\n",
       "#sk-container-id-6 div.sk-estimator {\n",
       "  font-family: monospace;\n",
       "  border: 1px dotted var(--sklearn-color-border-box);\n",
       "  border-radius: 0.25em;\n",
       "  box-sizing: border-box;\n",
       "  margin-bottom: 0.5em;\n",
       "  /* unfitted */\n",
       "  background-color: var(--sklearn-color-unfitted-level-0);\n",
       "}\n",
       "\n",
       "#sk-container-id-6 div.sk-estimator.fitted {\n",
       "  /* fitted */\n",
       "  background-color: var(--sklearn-color-fitted-level-0);\n",
       "}\n",
       "\n",
       "/* on hover */\n",
       "#sk-container-id-6 div.sk-estimator:hover {\n",
       "  /* unfitted */\n",
       "  background-color: var(--sklearn-color-unfitted-level-2);\n",
       "}\n",
       "\n",
       "#sk-container-id-6 div.sk-estimator.fitted:hover {\n",
       "  /* fitted */\n",
       "  background-color: var(--sklearn-color-fitted-level-2);\n",
       "}\n",
       "\n",
       "/* Specification for estimator info (e.g. \"i\" and \"?\") */\n",
       "\n",
       "/* Common style for \"i\" and \"?\" */\n",
       "\n",
       ".sk-estimator-doc-link,\n",
       "a:link.sk-estimator-doc-link,\n",
       "a:visited.sk-estimator-doc-link {\n",
       "  float: right;\n",
       "  font-size: smaller;\n",
       "  line-height: 1em;\n",
       "  font-family: monospace;\n",
       "  background-color: var(--sklearn-color-background);\n",
       "  border-radius: 1em;\n",
       "  height: 1em;\n",
       "  width: 1em;\n",
       "  text-decoration: none !important;\n",
       "  margin-left: 1ex;\n",
       "  /* unfitted */\n",
       "  border: var(--sklearn-color-unfitted-level-1) 1pt solid;\n",
       "  color: var(--sklearn-color-unfitted-level-1);\n",
       "}\n",
       "\n",
       ".sk-estimator-doc-link.fitted,\n",
       "a:link.sk-estimator-doc-link.fitted,\n",
       "a:visited.sk-estimator-doc-link.fitted {\n",
       "  /* fitted */\n",
       "  border: var(--sklearn-color-fitted-level-1) 1pt solid;\n",
       "  color: var(--sklearn-color-fitted-level-1);\n",
       "}\n",
       "\n",
       "/* On hover */\n",
       "div.sk-estimator:hover .sk-estimator-doc-link:hover,\n",
       ".sk-estimator-doc-link:hover,\n",
       "div.sk-label-container:hover .sk-estimator-doc-link:hover,\n",
       ".sk-estimator-doc-link:hover {\n",
       "  /* unfitted */\n",
       "  background-color: var(--sklearn-color-unfitted-level-3);\n",
       "  color: var(--sklearn-color-background);\n",
       "  text-decoration: none;\n",
       "}\n",
       "\n",
       "div.sk-estimator.fitted:hover .sk-estimator-doc-link.fitted:hover,\n",
       ".sk-estimator-doc-link.fitted:hover,\n",
       "div.sk-label-container:hover .sk-estimator-doc-link.fitted:hover,\n",
       ".sk-estimator-doc-link.fitted:hover {\n",
       "  /* fitted */\n",
       "  background-color: var(--sklearn-color-fitted-level-3);\n",
       "  color: var(--sklearn-color-background);\n",
       "  text-decoration: none;\n",
       "}\n",
       "\n",
       "/* Span, style for the box shown on hovering the info icon */\n",
       ".sk-estimator-doc-link span {\n",
       "  display: none;\n",
       "  z-index: 9999;\n",
       "  position: relative;\n",
       "  font-weight: normal;\n",
       "  right: .2ex;\n",
       "  padding: .5ex;\n",
       "  margin: .5ex;\n",
       "  width: min-content;\n",
       "  min-width: 20ex;\n",
       "  max-width: 50ex;\n",
       "  color: var(--sklearn-color-text);\n",
       "  box-shadow: 2pt 2pt 4pt #999;\n",
       "  /* unfitted */\n",
       "  background: var(--sklearn-color-unfitted-level-0);\n",
       "  border: .5pt solid var(--sklearn-color-unfitted-level-3);\n",
       "}\n",
       "\n",
       ".sk-estimator-doc-link.fitted span {\n",
       "  /* fitted */\n",
       "  background: var(--sklearn-color-fitted-level-0);\n",
       "  border: var(--sklearn-color-fitted-level-3);\n",
       "}\n",
       "\n",
       ".sk-estimator-doc-link:hover span {\n",
       "  display: block;\n",
       "}\n",
       "\n",
       "/* \"?\"-specific style due to the `<a>` HTML tag */\n",
       "\n",
       "#sk-container-id-6 a.estimator_doc_link {\n",
       "  float: right;\n",
       "  font-size: 1rem;\n",
       "  line-height: 1em;\n",
       "  font-family: monospace;\n",
       "  background-color: var(--sklearn-color-background);\n",
       "  border-radius: 1rem;\n",
       "  height: 1rem;\n",
       "  width: 1rem;\n",
       "  text-decoration: none;\n",
       "  /* unfitted */\n",
       "  color: var(--sklearn-color-unfitted-level-1);\n",
       "  border: var(--sklearn-color-unfitted-level-1) 1pt solid;\n",
       "}\n",
       "\n",
       "#sk-container-id-6 a.estimator_doc_link.fitted {\n",
       "  /* fitted */\n",
       "  border: var(--sklearn-color-fitted-level-1) 1pt solid;\n",
       "  color: var(--sklearn-color-fitted-level-1);\n",
       "}\n",
       "\n",
       "/* On hover */\n",
       "#sk-container-id-6 a.estimator_doc_link:hover {\n",
       "  /* unfitted */\n",
       "  background-color: var(--sklearn-color-unfitted-level-3);\n",
       "  color: var(--sklearn-color-background);\n",
       "  text-decoration: none;\n",
       "}\n",
       "\n",
       "#sk-container-id-6 a.estimator_doc_link.fitted:hover {\n",
       "  /* fitted */\n",
       "  background-color: var(--sklearn-color-fitted-level-3);\n",
       "}\n",
       "</style><div id=\"sk-container-id-6\" class=\"sk-top-container\"><div class=\"sk-text-repr-fallback\"><pre>LogisticRegression(class_weight=&#x27;balanced&#x27;, multi_class=&#x27;multinomial&#x27;,\n",
       "                   random_state=3)</pre><b>In a Jupyter environment, please rerun this cell to show the HTML representation or trust the notebook. <br />On GitHub, the HTML representation is unable to render, please try loading this page with nbviewer.org.</b></div><div class=\"sk-container\" hidden><div class=\"sk-item\"><div class=\"sk-estimator fitted sk-toggleable\"><input class=\"sk-toggleable__control sk-hidden--visually\" id=\"sk-estimator-id-6\" type=\"checkbox\" checked><label for=\"sk-estimator-id-6\" class=\"sk-toggleable__label fitted sk-toggleable__label-arrow fitted\">&nbsp;&nbsp;LogisticRegression<a class=\"sk-estimator-doc-link fitted\" rel=\"noreferrer\" target=\"_blank\" href=\"https://scikit-learn.org/1.5/modules/generated/sklearn.linear_model.LogisticRegression.html\">?<span>Documentation for LogisticRegression</span></a><span class=\"sk-estimator-doc-link fitted\">i<span>Fitted</span></span></label><div class=\"sk-toggleable__content fitted\"><pre>LogisticRegression(class_weight=&#x27;balanced&#x27;, multi_class=&#x27;multinomial&#x27;,\n",
       "                   random_state=3)</pre></div> </div></div></div></div>"
      ]
     },
     "execution_count": 211,
     "metadata": {},
     "output_type": "execute_result"
    }
   ],
   "execution_count": 211
  },
  {
   "cell_type": "code",
   "source": [
    "y_hat_lr_weighted = weighted_lr_model.predict(X_test_lr)\n",
    "\n",
    "# Classification report on testing data\n",
    "print(\"classification report (testing, weighted):\\n\", classification_report(y_test_lr, y_hat_lr_weighted))"
   ],
   "metadata": {
    "colab": {
     "base_uri": "https://localhost:8080/"
    },
    "id": "Qd73zJfzwxLF",
    "outputId": "fe77f007-760a-46f3-e2b5-c59dc29f188f",
    "ExecuteTime": {
     "end_time": "2024-12-13T17:01:47.286377Z",
     "start_time": "2024-12-13T17:01:47.278662Z"
    }
   },
   "outputs": [
    {
     "name": "stdout",
     "output_type": "stream",
     "text": [
      "classification report (testing, weighted):\n",
      "               precision    recall  f1-score   support\n",
      "\n",
      "     Chinese       0.45      0.28      0.34        18\n",
      "      French       0.45      0.54      0.49        28\n",
      "      German       0.13      0.12      0.13        16\n",
      "       Greek       0.30      0.19      0.23        16\n",
      "  Portuguese       0.40      0.29      0.33        14\n",
      "     Spanish       0.49      0.69      0.57        32\n",
      "\n",
      "    accuracy                           0.41       124\n",
      "   macro avg       0.37      0.35      0.35       124\n",
      "weighted avg       0.40      0.41      0.39       124\n",
      "\n"
     ]
    }
   ],
   "execution_count": 212
  },
  {
   "cell_type": "code",
   "source": [
    "# Visualize confusion matrix for weighted logistic regression\n",
    "\n",
    "create_cm(y_test_lr, y_hat_lr_weighted)"
   ],
   "metadata": {
    "colab": {
     "base_uri": "https://localhost:8080/",
     "height": 514
    },
    "id": "S_D5J015xQXm",
    "outputId": "8334da76-032a-4e7c-949e-4fbde72c70e0",
    "ExecuteTime": {
     "end_time": "2024-12-13T17:01:47.477371Z",
     "start_time": "2024-12-13T17:01:47.292352Z"
    }
   },
   "outputs": [
    {
     "data": {
      "text/plain": [
       "<Figure size 640x480 with 2 Axes>"
      ],
      "image/png": "[encoded data removed]"
     },
     "metadata": {},
     "output_type": "display_data"
    }
   ],
   "execution_count": 213
  },
  {
   "cell_type": "markdown",
   "source": [
    "The accuracy and macro-F1 have slightly improved."
   ],
   "metadata": {
    "id": "M1P-yScjCtMx"
   }
  },
  {
   "cell_type": "markdown",
   "source": [
    "### 3) Logistic regression model (n-grams with CountVectorizer)"
   ],
   "metadata": {
    "id": "rAtbfrjXSzKi"
   }
  },
  {
   "cell_type": "markdown",
   "source": [
    "To capture more contextual information, we'll slightly modify the code from the previous section to incorporate bi-grams and tri-grams with the `ngram_range` parameter in `CountVectorizer`."
   ],
   "metadata": {
    "id": "Vhx_2kP6TBvt"
   }
  },
  {
   "cell_type": "code",
   "source": [
    "# Test ranges of n-grams\n",
    "\n",
    "ngrams_list = [(1,2),(2,2),(2,3),(1,3)]\n",
    "\n",
    "for ngram_i in ngrams_list:\n",
    "  # Vectorize training data, varying the ngram_range\n",
    "  vectorizer = CountVectorizer(stop_words = \"english\", ngram_range = ngram_i)\n",
    "  X_train_lr_ngram = vectorizer.fit_transform(X_train[\"answer\"])\n",
    "  X_test_lr_ngram = vectorizer.transform(X_test[\"answer\"])\n",
    "\n",
    "  # Fit model\n",
    "  weighted_lr_model_ngram = LogisticRegression(random_state = 3, multi_class='multinomial', solver='lbfgs', class_weight = \"balanced\")\n",
    "  weighted_lr_model_ngram.fit(X_train_lr_ngram, y_train_lr)\n",
    "\n",
    "  y_hat_lr_weighted_ngram = weighted_lr_model_ngram.predict(X_test_lr_ngram)\n",
    "\n",
    "  # Classification report on testing data\n",
    "  print(\"classification report (testing, weighted):\\n\", f'ngram_range: {ngram_i}\\n',\n",
    "        classification_report(y_test_lr, y_hat_lr_weighted_ngram),\"\\n\")"
   ],
   "metadata": {
    "colab": {
     "base_uri": "https://localhost:8080/"
    },
    "id": "qxK4wK63XIbG",
    "outputId": "dc2b6c58-c2e5-496c-894b-fc5d054295bb",
    "ExecuteTime": {
     "end_time": "2024-12-13T17:01:52.645695Z",
     "start_time": "2024-12-13T17:01:47.508980Z"
    }
   },
   "outputs": [
    {
     "name": "stderr",
     "output_type": "stream",
     "text": [
      "/Users/anjieliu/Library/Mobile Documents/com~apple~CloudDocs/Documents/MyUT/Year3/Fall2024/LIN 371 Machine Learning for Text Analysis/LIN371_Project/.venv/lib/python3.9/site-packages/sklearn/linear_model/_logistic.py:1247: FutureWarning: 'multi_class' was deprecated in version 1.5 and will be removed in 1.7. From then on, it will always use 'multinomial'. Leave it to its default value to avoid this warning.\n",
      "  warnings.warn(\n"
     ]
    },
    {
     "name": "stdout",
     "output_type": "stream",
     "text": [
      "classification report (testing, weighted):\n",
      " ngram_range: (1, 2)\n",
      "               precision    recall  f1-score   support\n",
      "\n",
      "     Chinese       0.71      0.28      0.40        18\n",
      "      French       0.43      0.57      0.49        28\n",
      "      German       0.12      0.06      0.08        16\n",
      "       Greek       0.50      0.25      0.33        16\n",
      "  Portuguese       0.50      0.21      0.30        14\n",
      "     Spanish       0.43      0.78      0.56        32\n",
      "\n",
      "    accuracy                           0.44       124\n",
      "   macro avg       0.45      0.36      0.36       124\n",
      "weighted avg       0.45      0.44      0.40       124\n",
      " \n",
      "\n"
     ]
    },
    {
     "name": "stderr",
     "output_type": "stream",
     "text": [
      "/Users/anjieliu/Library/Mobile Documents/com~apple~CloudDocs/Documents/MyUT/Year3/Fall2024/LIN 371 Machine Learning for Text Analysis/LIN371_Project/.venv/lib/python3.9/site-packages/sklearn/linear_model/_logistic.py:1247: FutureWarning: 'multi_class' was deprecated in version 1.5 and will be removed in 1.7. From then on, it will always use 'multinomial'. Leave it to its default value to avoid this warning.\n",
      "  warnings.warn(\n"
     ]
    },
    {
     "name": "stdout",
     "output_type": "stream",
     "text": [
      "classification report (testing, weighted):\n",
      " ngram_range: (2, 2)\n",
      "               precision    recall  f1-score   support\n",
      "\n",
      "     Chinese       1.00      0.11      0.20        18\n",
      "      French       0.37      0.46      0.41        28\n",
      "      German       0.20      0.06      0.10        16\n",
      "       Greek       0.67      0.25      0.36        16\n",
      "  Portuguese       1.00      0.07      0.13        14\n",
      "     Spanish       0.39      0.91      0.54        32\n",
      "\n",
      "    accuracy                           0.40       124\n",
      "   macro avg       0.60      0.31      0.29       124\n",
      "weighted avg       0.55      0.40      0.34       124\n",
      " \n",
      "\n"
     ]
    },
    {
     "name": "stderr",
     "output_type": "stream",
     "text": [
      "/Users/anjieliu/Library/Mobile Documents/com~apple~CloudDocs/Documents/MyUT/Year3/Fall2024/LIN 371 Machine Learning for Text Analysis/LIN371_Project/.venv/lib/python3.9/site-packages/sklearn/linear_model/_logistic.py:1247: FutureWarning: 'multi_class' was deprecated in version 1.5 and will be removed in 1.7. From then on, it will always use 'multinomial'. Leave it to its default value to avoid this warning.\n",
      "  warnings.warn(\n",
      "/Users/anjieliu/Library/Mobile Documents/com~apple~CloudDocs/Documents/MyUT/Year3/Fall2024/LIN 371 Machine Learning for Text Analysis/LIN371_Project/.venv/lib/python3.9/site-packages/sklearn/metrics/_classification.py:1531: UndefinedMetricWarning: Precision is ill-defined and being set to 0.0 in labels with no predicted samples. Use `zero_division` parameter to control this behavior.\n",
      "  _warn_prf(average, modifier, f\"{metric.capitalize()} is\", len(result))\n",
      "/Users/anjieliu/Library/Mobile Documents/com~apple~CloudDocs/Documents/MyUT/Year3/Fall2024/LIN 371 Machine Learning for Text Analysis/LIN371_Project/.venv/lib/python3.9/site-packages/sklearn/metrics/_classification.py:1531: UndefinedMetricWarning: Precision is ill-defined and being set to 0.0 in labels with no predicted samples. Use `zero_division` parameter to control this behavior.\n",
      "  _warn_prf(average, modifier, f\"{metric.capitalize()} is\", len(result))\n",
      "/Users/anjieliu/Library/Mobile Documents/com~apple~CloudDocs/Documents/MyUT/Year3/Fall2024/LIN 371 Machine Learning for Text Analysis/LIN371_Project/.venv/lib/python3.9/site-packages/sklearn/metrics/_classification.py:1531: UndefinedMetricWarning: Precision is ill-defined and being set to 0.0 in labels with no predicted samples. Use `zero_division` parameter to control this behavior.\n",
      "  _warn_prf(average, modifier, f\"{metric.capitalize()} is\", len(result))\n"
     ]
    },
    {
     "name": "stdout",
     "output_type": "stream",
     "text": [
      "classification report (testing, weighted):\n",
      " ngram_range: (2, 3)\n",
      "               precision    recall  f1-score   support\n",
      "\n",
      "     Chinese       1.00      0.06      0.11        18\n",
      "      French       0.34      0.39      0.37        28\n",
      "      German       0.00      0.00      0.00        16\n",
      "       Greek       0.75      0.19      0.30        16\n",
      "  Portuguese       0.00      0.00      0.00        14\n",
      "     Spanish       0.36      0.94      0.52        32\n",
      "\n",
      "    accuracy                           0.36       124\n",
      "   macro avg       0.41      0.26      0.21       124\n",
      "weighted avg       0.41      0.36      0.27       124\n",
      " \n",
      "\n"
     ]
    },
    {
     "name": "stderr",
     "output_type": "stream",
     "text": [
      "/Users/anjieliu/Library/Mobile Documents/com~apple~CloudDocs/Documents/MyUT/Year3/Fall2024/LIN 371 Machine Learning for Text Analysis/LIN371_Project/.venv/lib/python3.9/site-packages/sklearn/linear_model/_logistic.py:1247: FutureWarning: 'multi_class' was deprecated in version 1.5 and will be removed in 1.7. From then on, it will always use 'multinomial'. Leave it to its default value to avoid this warning.\n",
      "  warnings.warn(\n"
     ]
    },
    {
     "name": "stdout",
     "output_type": "stream",
     "text": [
      "classification report (testing, weighted):\n",
      " ngram_range: (1, 3)\n",
      "               precision    recall  f1-score   support\n",
      "\n",
      "     Chinese       0.33      0.06      0.10        18\n",
      "      French       0.38      0.54      0.45        28\n",
      "      German       0.00      0.00      0.00        16\n",
      "       Greek       0.50      0.25      0.33        16\n",
      "  Portuguese       0.50      0.14      0.22        14\n",
      "     Spanish       0.39      0.78      0.52        32\n",
      "\n",
      "    accuracy                           0.38       124\n",
      "   macro avg       0.35      0.29      0.27       124\n",
      "weighted avg       0.36      0.38      0.32       124\n",
      " \n",
      "\n"
     ]
    }
   ],
   "execution_count": 214
  },
  {
   "cell_type": "markdown",
   "source": [
    "It looks like bi-grams were not helpful... :(\n",
    "\n"
   ],
   "metadata": {
    "id": "HgEHCZ-HYoU4"
   }
  },
  {
   "cell_type": "markdown",
   "source": [
    "### 4) Logistic regression model (POS tags with CountVectorizer)"
   ],
   "metadata": {
    "id": "RIh0dwHnxqep"
   }
  },
  {
   "cell_type": "markdown",
   "source": [
    "Goal: see if bi-grams and POS (part-of-speech) tags can help at all. Use `nltk`'s POS tagger. Do include stop words, and set min word count. We wanted to somehow do bi-grams and tri-grams of the POS tags themselves but not sure how this would work...?\n",
    "\n",
    "Much of the code from this section is from HW 3.\n",
    "\n",
    "POS tagging method inspired by paper where the Reddit L2 dataset came from (Native language cognate effects on second language lexical choice) - (https://github.com/ellarabi/reddit-l2/blob/master/preprocess_reddit_data.py). For each word, append the corresponding POS tag."
   ],
   "metadata": {
    "id": "oRS7A-RTyAYQ"
   }
  },
  {
   "metadata": {
    "ExecuteTime": {
     "end_time": "2024-12-13T17:01:53.591706Z",
     "start_time": "2024-12-13T17:01:52.705760Z"
    }
   },
   "cell_type": "code",
   "source": "!pip install nltk",
   "outputs": [
    {
     "name": "stdout",
     "output_type": "stream",
     "text": [
      "Requirement already satisfied: nltk in ./.venv/lib/python3.9/site-packages (3.9.1)\r\n",
      "Requirement already satisfied: click in ./.venv/lib/python3.9/site-packages (from nltk) (8.1.7)\r\n",
      "Requirement already satisfied: joblib in ./.venv/lib/python3.9/site-packages (from nltk) (1.4.2)\r\n",
      "Requirement already satisfied: regex>=2021.8.3 in ./.venv/lib/python3.9/site-packages (from nltk) (2024.11.6)\r\n",
      "Requirement already satisfied: tqdm in ./.venv/lib/python3.9/site-packages (from nltk) (4.67.1)\r\n"
     ]
    }
   ],
   "execution_count": 215
  },
  {
   "cell_type": "code",
   "source": [
    "import nltk\n",
    "import scipy\n",
    "\n",
    "from sklearn.compose import ColumnTransformer"
   ],
   "metadata": {
    "id": "ysGyeUM2xww9",
    "ExecuteTime": {
     "end_time": "2024-12-13T17:01:53.616577Z",
     "start_time": "2024-12-13T17:01:53.614535Z"
    }
   },
   "outputs": [],
   "execution_count": 216
  },
  {
   "cell_type": "code",
   "source": [
    "nltk.download('punkt_tab')\n",
    "nltk.download('averaged_perceptron_tagger_eng')"
   ],
   "metadata": {
    "colab": {
     "base_uri": "https://localhost:8080/"
    },
    "id": "kmtAniRmeetY",
    "outputId": "1b744686-e27c-4362-9caf-1f3d6d42448c",
    "ExecuteTime": {
     "end_time": "2024-12-13T17:01:53.723490Z",
     "start_time": "2024-12-13T17:01:53.631195Z"
    }
   },
   "outputs": [
    {
     "name": "stderr",
     "output_type": "stream",
     "text": [
      "[nltk_data] Downloading package punkt_tab to\n",
      "[nltk_data]     /Users/anjieliu/nltk_data...\n",
      "[nltk_data]   Package punkt_tab is already up-to-date!\n",
      "[nltk_data] Downloading package averaged_perceptron_tagger_eng to\n",
      "[nltk_data]     /Users/anjieliu/nltk_data...\n",
      "[nltk_data]   Package averaged_perceptron_tagger_eng is already up-to-\n",
      "[nltk_data]       date!\n"
     ]
    },
    {
     "data": {
      "text/plain": [
       "True"
      ]
     },
     "execution_count": 217,
     "metadata": {},
     "output_type": "execute_result"
    }
   ],
   "execution_count": 217
  },
  {
   "cell_type": "code",
   "source": [
    "# Transform original text by appending POS tag to end of each word\n",
    "\n",
    "def append_pos_tags(text):\n",
    "  text_with_pos = []\n",
    "\n",
    "  text = nltk.sent_tokenize(text)\n",
    "  processed_sents = [nltk.word_tokenize(sentence) for sentence in text]\n",
    "\n",
    "  for sentence in nltk.pos_tag_sents(processed_sents):\n",
    "    sentence_with_pos = []\n",
    "    for pair in sentence:\n",
    "      tagged_word = pair[0] + \"_\" + pair[1]\n",
    "      sentence_with_pos.append(tagged_word)\n",
    "    sentence_with_pos = \" \".join(sentence_with_pos)\n",
    "    text_with_pos.append(sentence_with_pos)\n",
    "\n",
    "  text_with_pos = \"\\n\".join(text_with_pos)\n",
    "\n",
    "  return text_with_pos"
   ],
   "metadata": {
    "id": "l0HDxf6EcSda",
    "ExecuteTime": {
     "end_time": "2024-12-13T17:01:53.741459Z",
     "start_time": "2024-12-13T17:01:53.737943Z"
    }
   },
   "outputs": [],
   "execution_count": 218
  },
  {
   "cell_type": "code",
   "source": [
    "sample = X_train[\"answer\"][1]\n",
    "\n",
    "append_pos_tags(sample)"
   ],
   "metadata": {
    "colab": {
     "base_uri": "https://localhost:8080/",
     "height": 120
    },
    "id": "_dWO7d09eQkZ",
    "outputId": "8af4329f-92a4-4051-9a0d-ca4e98ac5c4c",
    "ExecuteTime": {
     "end_time": "2024-12-13T17:01:53.797839Z",
     "start_time": "2024-12-13T17:01:53.766753Z"
    }
   },
   "outputs": [
    {
     "data": {
      "text/plain": [
       "\"As_IN our_PRP$ class_NN is_VBZ going_VBG to_TO mark_VB a_DT short_JJ video_NN about_IN daily_JJ life_NN at_IN college_NN ,_, I_PRP write_VBP this_DT report_NN to_TO suggest_VB some_DT lessons_NNS and_CC activities_NNS which_WDT should_MD be_VB filmed_VBN ._.\\n1_CD ._.\\nEnglish_JJ lesson_NN ._.\\nBecause_IN all_DT students_NNS in_IN English_JJ class_NN are_VBP from_IN all_DT over_IN the_DT world_NN ._.\\nWe_PRP can_MD talk_VB everybody_NN 's_POS feeling_NN living_NN and_CC study_NN at_IN a_DT foreign_JJ country_NN ._.\\n2_CD ._.\\nComputing_VBG lesson_NN and_CC computer_NN room_NN ._.\\nNowdays_JJ internet_NN makes_VBZ us_PRP closer_JJR and_CC closer_RBR ._.\\nWe_PRP can_MD get_VB all_DT what_WP we_PRP want_VBP on_IN internet_NN ._.\\nIt_PRP 's_VBZ one_CD of_IN the_DT most_RBS important_JJ things_NNS in_IN our_PRP$ life_NN now_RB ._.\\n3_CD ._.\\nLiabrary_NNP ._.\\nWe_PRP not_RB only_RB borrow_VB books_NNS from_IN liabrary_JJ but_CC also_RB study_VBP at_IN liabrary_JJ ._.\\nLibrary_NNP is_VBZ very_RB important_JJ in_IN our_PRP$ daily_JJ life_NN ._.\\n4_CD ._.\\nCanteen_NNP ._.\\nEveryday_NN we_PRP go_VBP to_TO canteen_VB have_VB lunch_NN ,_, no_DT matter_NN you_PRP bought_VBD food_NN from_IN there_EX or_CC you_PRP take_VBP your_PRP$ own_JJ food_NN ._.\\n5_CD ._.\\nFootball_NN ._.\\nWhat_WP do_VBP you_PRP do_VB after_IN class_NN ?_.\\nJoging_VBG or_CC doing_VBG some_DT sports_NNS ?_.\\nYou_PRP ca_MD n't_RB forget_VB football_NN ._.\\nThese_DT are_VBP what_WP I_PRP think_VBP should_MD be_VB filmed_VBN ._.\\nIf_IN any_DT of_IN you_PRP have_VBP other_JJ suggestion_NN ,_, we_PRP can_MD discuss_VB again_RB ._.\\nBut_CC I_PRP think_VBP these_DT five_CD lesson_NN or_CC activities_NNS are_VBP most_RBS common_JJ in_IN our_PRP$ daily_JJ life_NN at_IN college_NN ._.\""
      ]
     },
     "execution_count": 219,
     "metadata": {},
     "output_type": "execute_result"
    }
   ],
   "execution_count": 219
  },
  {
   "cell_type": "markdown",
   "source": [
    "It looks like the writer's speech errors will cause the POS tagger to incorrectly tag some words; for example, library (highlighted below) is misspelled as \"liabrary\", and was tagged as an adjective (JJ) when it's rather a noun."
   ],
   "metadata": {
    "id": "cFc47gh5fxI4"
   }
  },
  {
   "cell_type": "markdown",
   "source": [
    "![image.png](data:image/png;base64,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)"
   ],
   "metadata": {
    "id": "weuVEVMNfcrY"
   }
  },
  {
   "cell_type": "markdown",
   "source": [
    "Now let's apply this to the FCE dataset and see what results we'll get from logistic regression then, first just with bag of words:"
   ],
   "metadata": {
    "id": "R_aWRJKBgXcM"
   }
  },
  {
   "cell_type": "code",
   "source": [
    "X_train_tagged = X_train[\"answer\"].apply(append_pos_tags)"
   ],
   "metadata": {
    "id": "dxse4VishQeK",
    "ExecuteTime": {
     "end_time": "2024-12-13T17:01:57.055029Z",
     "start_time": "2024-12-13T17:01:53.800929Z"
    }
   },
   "outputs": [],
   "execution_count": 220
  },
  {
   "cell_type": "code",
   "source": [
    "X_test_tagged = X_test[\"answer\"].apply(append_pos_tags)"
   ],
   "metadata": {
    "id": "vb84TkjNhm9p",
    "ExecuteTime": {
     "end_time": "2024-12-13T17:01:57.485002Z",
     "start_time": "2024-12-13T17:01:57.069229Z"
    }
   },
   "outputs": [],
   "execution_count": 221
  },
  {
   "cell_type": "code",
   "source": [
    "# Vectorize training data\n",
    "vectorizer_pos = CountVectorizer(stop_words = \"english\")\n",
    "\n",
    "X_train_lr_pos = vectorizer_pos.fit_transform(X_train_tagged)\n",
    "X_test_lr_pos = vectorizer_pos.transform(X_test_tagged)\n",
    "\n",
    "# Fit model\n",
    "weighted_lr_model_pos = LogisticRegression(random_state = 3, multi_class='multinomial', solver='lbfgs', class_weight = \"balanced\")\n",
    "weighted_lr_model_pos.fit(X_train_lr_pos, y_train_lr)\n",
    "\n",
    "y_hat_lr_weighted_pos = weighted_lr_model_pos.predict(X_test_lr_pos)\n",
    "\n",
    "# Classification report on testing data\n",
    "print(\"classification report (testing, weighted):\\n\",\n",
    "      classification_report(y_test_lr, y_hat_lr_weighted_pos))"
   ],
   "metadata": {
    "colab": {
     "base_uri": "https://localhost:8080/"
    },
    "id": "qfucFThWggcg",
    "outputId": "8799169e-eedb-4724-f012-5780a91b94fc",
    "ExecuteTime": {
     "end_time": "2024-12-13T17:01:58.650398Z",
     "start_time": "2024-12-13T17:01:57.499361Z"
    }
   },
   "outputs": [
    {
     "name": "stderr",
     "output_type": "stream",
     "text": [
      "/Users/anjieliu/Library/Mobile Documents/com~apple~CloudDocs/Documents/MyUT/Year3/Fall2024/LIN 371 Machine Learning for Text Analysis/LIN371_Project/.venv/lib/python3.9/site-packages/sklearn/linear_model/_logistic.py:1247: FutureWarning: 'multi_class' was deprecated in version 1.5 and will be removed in 1.7. From then on, it will always use 'multinomial'. Leave it to its default value to avoid this warning.\n",
      "  warnings.warn(\n"
     ]
    },
    {
     "name": "stdout",
     "output_type": "stream",
     "text": [
      "classification report (testing, weighted):\n",
      "               precision    recall  f1-score   support\n",
      "\n",
      "     Chinese       0.62      0.44      0.52        18\n",
      "      French       0.54      0.68      0.60        28\n",
      "      German       0.36      0.31      0.33        16\n",
      "       Greek       0.60      0.38      0.46        16\n",
      "  Portuguese       0.33      0.29      0.31        14\n",
      "     Spanish       0.47      0.59      0.53        32\n",
      "\n",
      "    accuracy                           0.49       124\n",
      "   macro avg       0.49      0.45      0.46       124\n",
      "weighted avg       0.50      0.49      0.48       124\n",
      "\n"
     ]
    },
    {
     "name": "stderr",
     "output_type": "stream",
     "text": [
      "/Users/anjieliu/Library/Mobile Documents/com~apple~CloudDocs/Documents/MyUT/Year3/Fall2024/LIN 371 Machine Learning for Text Analysis/LIN371_Project/.venv/lib/python3.9/site-packages/sklearn/linear_model/_logistic.py:469: ConvergenceWarning: lbfgs failed to converge (status=1):\n",
      "STOP: TOTAL NO. of ITERATIONS REACHED LIMIT.\n",
      "\n",
      "Increase the number of iterations (max_iter) or scale the data as shown in:\n",
      "    https://scikit-learn.org/stable/modules/preprocessing.html\n",
      "Please also refer to the documentation for alternative solver options:\n",
      "    https://scikit-learn.org/stable/modules/linear_model.html#logistic-regression\n",
      "  n_iter_i = _check_optimize_result(\n"
     ]
    }
   ],
   "execution_count": 222
  },
  {
   "cell_type": "markdown",
   "source": [
    "The accuracy has improved a little!"
   ],
   "metadata": {
    "id": "jhhK-KfVic0r"
   }
  },
  {
   "cell_type": "code",
   "source": [
    "# Visualize confusion matrix for weighted logistic regression + POS tags\n",
    "create_cm(y_test_lr, y_hat_lr_weighted_pos)"
   ],
   "metadata": {
    "colab": {
     "base_uri": "https://localhost:8080/",
     "height": 514
    },
    "id": "hiQh3kVPggaH",
    "outputId": "89d3ca85-7bc6-4838-b81a-adc331135bbc",
    "ExecuteTime": {
     "end_time": "2024-12-13T17:01:58.914310Z",
     "start_time": "2024-12-13T17:01:58.701920Z"
    }
   },
   "outputs": [
    {
     "data": {
      "text/plain": [
       "<Figure size 640x480 with 2 Axes>"
      ],
      "image/png": "[encoded data removed]"
     },
     "metadata": {},
     "output_type": "display_data"
    }
   ],
   "execution_count": 223
  },
  {
   "cell_type": "markdown",
   "source": [
    "How about bi-grams now?"
   ],
   "metadata": {
    "id": "TGs-voeok4L4"
   }
  },
  {
   "cell_type": "code",
   "source": [
    "# Vectorize training data\n",
    "vectorizer = CountVectorizer(stop_words = \"english\", ngram_range = (2,2))\n",
    "\n",
    "X_train_lr_pos = vectorizer.fit_transform(X_train_tagged)\n",
    "X_test_lr_pos = vectorizer.transform(X_test_tagged)\n",
    "\n",
    "# Fit model\n",
    "weighted_lr_model_pos_2 = LogisticRegression(random_state = 3, multi_class='multinomial', solver='lbfgs', class_weight = \"balanced\")\n",
    "weighted_lr_model_pos_2.fit(X_train_lr_pos, y_train_lr)\n",
    "\n",
    "y_hat_lr_weighted_pos = weighted_lr_model_pos_2.predict(X_test_lr_pos)\n",
    "\n",
    "# Classification report on testing data\n",
    "print(\"classification report (testing, weighted):\\n\",\n",
    "      classification_report(y_test_lr, y_hat_lr_weighted_pos))"
   ],
   "metadata": {
    "colab": {
     "base_uri": "https://localhost:8080/"
    },
    "id": "_EB48FVggXD5",
    "outputId": "9204e683-b84f-4f67-a63a-aa32bb958eed",
    "ExecuteTime": {
     "end_time": "2024-12-13T17:02:00.449844Z",
     "start_time": "2024-12-13T17:01:58.927807Z"
    }
   },
   "outputs": [
    {
     "name": "stderr",
     "output_type": "stream",
     "text": [
      "/Users/anjieliu/Library/Mobile Documents/com~apple~CloudDocs/Documents/MyUT/Year3/Fall2024/LIN 371 Machine Learning for Text Analysis/LIN371_Project/.venv/lib/python3.9/site-packages/sklearn/linear_model/_logistic.py:1247: FutureWarning: 'multi_class' was deprecated in version 1.5 and will be removed in 1.7. From then on, it will always use 'multinomial'. Leave it to its default value to avoid this warning.\n",
      "  warnings.warn(\n"
     ]
    },
    {
     "name": "stdout",
     "output_type": "stream",
     "text": [
      "classification report (testing, weighted):\n",
      "               precision    recall  f1-score   support\n",
      "\n",
      "     Chinese       0.40      0.22      0.29        18\n",
      "      French       0.34      0.57      0.43        28\n",
      "      German       0.60      0.19      0.29        16\n",
      "       Greek       0.33      0.12      0.18        16\n",
      "  Portuguese       0.50      0.21      0.30        14\n",
      "     Spanish       0.38      0.59      0.46        32\n",
      "\n",
      "    accuracy                           0.38       124\n",
      "   macro avg       0.43      0.32      0.32       124\n",
      "weighted avg       0.41      0.38      0.35       124\n",
      "\n"
     ]
    }
   ],
   "execution_count": 224
  },
  {
   "cell_type": "markdown",
   "source": [
    "Okay, still not that good. What if we get rid of all the words and just use the POS tags?"
   ],
   "metadata": {
    "id": "xoGOBnurlFlT"
   }
  },
  {
   "cell_type": "code",
   "source": [
    "# Transform original text by replacing each word with the corresponding POS tag\n",
    "\n",
    "def substitute_pos_tags(text):\n",
    "  text_pos = []\n",
    "\n",
    "  text = nltk.sent_tokenize(text)\n",
    "  processed_sents = [nltk.word_tokenize(sentence) for sentence in text]\n",
    "\n",
    "  for sentence in nltk.pos_tag_sents(processed_sents):\n",
    "    sentence_pos = []\n",
    "    for pair in sentence:\n",
    "      pos = pair[1]\n",
    "      sentence_pos.append(pos)\n",
    "    sentence_pos = \" \".join(sentence_pos)\n",
    "    text_pos.append(sentence_pos)\n",
    "\n",
    "  text_pos = \"\\n\".join(text_pos)\n",
    "\n",
    "  return text_pos"
   ],
   "metadata": {
    "id": "Wi9QCLVilJMA",
    "ExecuteTime": {
     "end_time": "2024-12-13T17:02:00.482034Z",
     "start_time": "2024-12-13T17:02:00.477474Z"
    }
   },
   "outputs": [],
   "execution_count": 225
  },
  {
   "cell_type": "code",
   "source": [
    "# Test it really quick\n",
    "\n",
    "sample = X_train[\"answer\"][1]\n",
    "\n",
    "substitute_pos_tags(sample)"
   ],
   "metadata": {
    "colab": {
     "base_uri": "https://localhost:8080/",
     "height": 86
    },
    "id": "bqdNsjEmlj7M",
    "outputId": "0fe484f2-2f13-4f80-c4d9-164569aa2a63",
    "ExecuteTime": {
     "end_time": "2024-12-13T17:02:00.518979Z",
     "start_time": "2024-12-13T17:02:00.506603Z"
    }
   },
   "outputs": [
    {
     "data": {
      "text/plain": [
       "'IN PRP$ NN VBZ VBG TO VB DT JJ NN IN JJ NN IN NN , PRP VBP DT NN TO VB DT NNS CC NNS WDT MD VB VBN .\\nCD .\\nJJ NN .\\nIN DT NNS IN JJ NN VBP IN DT IN DT NN .\\nPRP MD VB NN POS NN NN CC NN IN DT JJ NN .\\nCD .\\nVBG NN CC NN NN .\\nJJ NN VBZ PRP JJR CC RBR .\\nPRP MD VB DT WP PRP VBP IN NN .\\nPRP VBZ CD IN DT RBS JJ NNS IN PRP$ NN RB .\\nCD .\\nNNP .\\nPRP RB RB VB NNS IN JJ CC RB VBP IN JJ .\\nNNP VBZ RB JJ IN PRP$ JJ NN .\\nCD .\\nNNP .\\nNN PRP VBP TO VB VB NN , DT NN PRP VBD NN IN EX CC PRP VBP PRP$ JJ NN .\\nCD .\\nNN .\\nWP VBP PRP VB IN NN .\\nVBG CC VBG DT NNS .\\nPRP MD RB VB NN .\\nDT VBP WP PRP VBP MD VB VBN .\\nIN DT IN PRP VBP JJ NN , PRP MD VB RB .\\nCC PRP VBP DT CD NN CC NNS VBP RBS JJ IN PRP$ JJ NN IN NN .'"
      ]
     },
     "execution_count": 226,
     "metadata": {},
     "output_type": "execute_result"
    }
   ],
   "execution_count": 226
  },
  {
   "cell_type": "code",
   "source": [
    "X_train_pos = X_train[\"answer\"].apply(substitute_pos_tags)\n",
    "X_test_pos = X_test[\"answer\"].apply(substitute_pos_tags)"
   ],
   "metadata": {
    "id": "j-yRhytooZ6R",
    "ExecuteTime": {
     "end_time": "2024-12-13T17:02:04.108255Z",
     "start_time": "2024-12-13T17:02:00.544308Z"
    }
   },
   "outputs": [],
   "execution_count": 227
  },
  {
   "cell_type": "code",
   "source": [
    "# Test ranges of n-grams\n",
    "\n",
    "ngrams_list = [(1,1),(1,2),(2,2),(2,3),(1,3)]\n",
    "\n",
    "for ngram_i in ngrams_list:\n",
    "  # Vectorize training data, varying the ngram_range\n",
    "  vectorizer = CountVectorizer(stop_words = \"english\", ngram_range = ngram_i)\n",
    "  X_train_lr_ngram_pos = vectorizer.fit_transform(X_train_pos)\n",
    "  X_test_lr_ngram_pos = vectorizer.transform(X_test_pos)\n",
    "\n",
    "  # Fit model\n",
    "  weighted_lr_model_ngram_pos = LogisticRegression(random_state = 3, multi_class='multinomial', solver='lbfgs', class_weight = \"balanced\")\n",
    "  weighted_lr_model_ngram_pos.fit(X_train_lr_ngram_pos, y_train_lr)\n",
    "\n",
    "  y_hat_lr_weighted_ngram_pos = weighted_lr_model_ngram_pos.predict(X_test_lr_ngram_pos)\n",
    "\n",
    "  # Classification report on testing data\n",
    "  print(\"classification report (testing, weighted):\\n\", f'ngram_range: {ngram_i}\\n',\n",
    "        classification_report(y_test_lr, y_hat_lr_weighted_ngram_pos),\"\\n\")"
   ],
   "metadata": {
    "colab": {
     "base_uri": "https://localhost:8080/"
    },
    "id": "mFfySlrslx9u",
    "outputId": "e8561fb6-31c1-4a0b-b281-8b363c92874f",
    "ExecuteTime": {
     "end_time": "2024-12-13T17:02:05.942646Z",
     "start_time": "2024-12-13T17:02:04.122639Z"
    }
   },
   "outputs": [
    {
     "name": "stdout",
     "output_type": "stream",
     "text": [
      "classification report (testing, weighted):\n",
      " ngram_range: (1, 1)\n",
      "               precision    recall  f1-score   support\n",
      "\n",
      "     Chinese       0.23      0.28      0.25        18\n",
      "      French       0.38      0.21      0.27        28\n",
      "      German       0.17      0.25      0.21        16\n",
      "       Greek       0.27      0.38      0.32        16\n",
      "  Portuguese       0.23      0.36      0.28        14\n",
      "     Spanish       0.32      0.19      0.24        32\n",
      "\n",
      "    accuracy                           0.26       124\n",
      "   macro avg       0.27      0.28      0.26       124\n",
      "weighted avg       0.28      0.26      0.26       124\n",
      " \n",
      "\n"
     ]
    },
    {
     "name": "stderr",
     "output_type": "stream",
     "text": [
      "/Users/anjieliu/Library/Mobile Documents/com~apple~CloudDocs/Documents/MyUT/Year3/Fall2024/LIN 371 Machine Learning for Text Analysis/LIN371_Project/.venv/lib/python3.9/site-packages/sklearn/linear_model/_logistic.py:1247: FutureWarning: 'multi_class' was deprecated in version 1.5 and will be removed in 1.7. From then on, it will always use 'multinomial'. Leave it to its default value to avoid this warning.\n",
      "  warnings.warn(\n",
      "/Users/anjieliu/Library/Mobile Documents/com~apple~CloudDocs/Documents/MyUT/Year3/Fall2024/LIN 371 Machine Learning for Text Analysis/LIN371_Project/.venv/lib/python3.9/site-packages/sklearn/linear_model/_logistic.py:469: ConvergenceWarning: lbfgs failed to converge (status=1):\n",
      "STOP: TOTAL NO. of ITERATIONS REACHED LIMIT.\n",
      "\n",
      "Increase the number of iterations (max_iter) or scale the data as shown in:\n",
      "    https://scikit-learn.org/stable/modules/preprocessing.html\n",
      "Please also refer to the documentation for alternative solver options:\n",
      "    https://scikit-learn.org/stable/modules/linear_model.html#logistic-regression\n",
      "  n_iter_i = _check_optimize_result(\n",
      "/Users/anjieliu/Library/Mobile Documents/com~apple~CloudDocs/Documents/MyUT/Year3/Fall2024/LIN 371 Machine Learning for Text Analysis/LIN371_Project/.venv/lib/python3.9/site-packages/sklearn/linear_model/_logistic.py:1247: FutureWarning: 'multi_class' was deprecated in version 1.5 and will be removed in 1.7. From then on, it will always use 'multinomial'. Leave it to its default value to avoid this warning.\n",
      "  warnings.warn(\n",
      "/Users/anjieliu/Library/Mobile Documents/com~apple~CloudDocs/Documents/MyUT/Year3/Fall2024/LIN 371 Machine Learning for Text Analysis/LIN371_Project/.venv/lib/python3.9/site-packages/sklearn/linear_model/_logistic.py:469: ConvergenceWarning: lbfgs failed to converge (status=1):\n",
      "STOP: TOTAL NO. of ITERATIONS REACHED LIMIT.\n",
      "\n",
      "Increase the number of iterations (max_iter) or scale the data as shown in:\n",
      "    https://scikit-learn.org/stable/modules/preprocessing.html\n",
      "Please also refer to the documentation for alternative solver options:\n",
      "    https://scikit-learn.org/stable/modules/linear_model.html#logistic-regression\n",
      "  n_iter_i = _check_optimize_result(\n"
     ]
    },
    {
     "name": "stdout",
     "output_type": "stream",
     "text": [
      "classification report (testing, weighted):\n",
      " ngram_range: (1, 2)\n",
      "               precision    recall  f1-score   support\n",
      "\n",
      "     Chinese       0.24      0.33      0.28        18\n",
      "      French       0.25      0.14      0.18        28\n",
      "      German       0.18      0.19      0.18        16\n",
      "       Greek       0.26      0.31      0.29        16\n",
      "  Portuguese       0.29      0.50      0.37        14\n",
      "     Spanish       0.26      0.19      0.22        32\n",
      "\n",
      "    accuracy                           0.25       124\n",
      "   macro avg       0.25      0.28      0.25       124\n",
      "weighted avg       0.25      0.25      0.24       124\n",
      " \n",
      "\n",
      "classification report (testing, weighted):\n",
      " ngram_range: (2, 2)\n",
      "               precision    recall  f1-score   support\n",
      "\n",
      "     Chinese       0.20      0.28      0.23        18\n",
      "      French       0.15      0.14      0.15        28\n",
      "      German       0.12      0.06      0.08        16\n",
      "       Greek       0.20      0.19      0.19        16\n",
      "  Portuguese       0.11      0.14      0.12        14\n",
      "     Spanish       0.20      0.19      0.19        32\n",
      "\n",
      "    accuracy                           0.17       124\n",
      "   macro avg       0.16      0.17      0.16       124\n",
      "weighted avg       0.17      0.17      0.17       124\n",
      " \n",
      "\n"
     ]
    },
    {
     "name": "stderr",
     "output_type": "stream",
     "text": [
      "/Users/anjieliu/Library/Mobile Documents/com~apple~CloudDocs/Documents/MyUT/Year3/Fall2024/LIN 371 Machine Learning for Text Analysis/LIN371_Project/.venv/lib/python3.9/site-packages/sklearn/linear_model/_logistic.py:1247: FutureWarning: 'multi_class' was deprecated in version 1.5 and will be removed in 1.7. From then on, it will always use 'multinomial'. Leave it to its default value to avoid this warning.\n",
      "  warnings.warn(\n",
      "/Users/anjieliu/Library/Mobile Documents/com~apple~CloudDocs/Documents/MyUT/Year3/Fall2024/LIN 371 Machine Learning for Text Analysis/LIN371_Project/.venv/lib/python3.9/site-packages/sklearn/linear_model/_logistic.py:469: ConvergenceWarning: lbfgs failed to converge (status=1):\n",
      "STOP: TOTAL NO. of ITERATIONS REACHED LIMIT.\n",
      "\n",
      "Increase the number of iterations (max_iter) or scale the data as shown in:\n",
      "    https://scikit-learn.org/stable/modules/preprocessing.html\n",
      "Please also refer to the documentation for alternative solver options:\n",
      "    https://scikit-learn.org/stable/modules/linear_model.html#logistic-regression\n",
      "  n_iter_i = _check_optimize_result(\n",
      "/Users/anjieliu/Library/Mobile Documents/com~apple~CloudDocs/Documents/MyUT/Year3/Fall2024/LIN 371 Machine Learning for Text Analysis/LIN371_Project/.venv/lib/python3.9/site-packages/sklearn/linear_model/_logistic.py:1247: FutureWarning: 'multi_class' was deprecated in version 1.5 and will be removed in 1.7. From then on, it will always use 'multinomial'. Leave it to its default value to avoid this warning.\n",
      "  warnings.warn(\n",
      "/Users/anjieliu/Library/Mobile Documents/com~apple~CloudDocs/Documents/MyUT/Year3/Fall2024/LIN 371 Machine Learning for Text Analysis/LIN371_Project/.venv/lib/python3.9/site-packages/sklearn/linear_model/_logistic.py:469: ConvergenceWarning: lbfgs failed to converge (status=1):\n",
      "STOP: TOTAL NO. of ITERATIONS REACHED LIMIT.\n",
      "\n",
      "Increase the number of iterations (max_iter) or scale the data as shown in:\n",
      "    https://scikit-learn.org/stable/modules/preprocessing.html\n",
      "Please also refer to the documentation for alternative solver options:\n",
      "    https://scikit-learn.org/stable/modules/linear_model.html#logistic-regression\n",
      "  n_iter_i = _check_optimize_result(\n"
     ]
    },
    {
     "name": "stdout",
     "output_type": "stream",
     "text": [
      "classification report (testing, weighted):\n",
      " ngram_range: (2, 3)\n",
      "               precision    recall  f1-score   support\n",
      "\n",
      "     Chinese       0.29      0.28      0.29        18\n",
      "      French       0.26      0.32      0.29        28\n",
      "      German       0.15      0.12      0.14        16\n",
      "       Greek       0.57      0.25      0.35        16\n",
      "  Portuguese       0.08      0.07      0.07        14\n",
      "     Spanish       0.28      0.34      0.31        32\n",
      "\n",
      "    accuracy                           0.26       124\n",
      "   macro avg       0.27      0.23      0.24       124\n",
      "weighted avg       0.28      0.26      0.26       124\n",
      " \n",
      "\n"
     ]
    },
    {
     "name": "stderr",
     "output_type": "stream",
     "text": [
      "/Users/anjieliu/Library/Mobile Documents/com~apple~CloudDocs/Documents/MyUT/Year3/Fall2024/LIN 371 Machine Learning for Text Analysis/LIN371_Project/.venv/lib/python3.9/site-packages/sklearn/linear_model/_logistic.py:1247: FutureWarning: 'multi_class' was deprecated in version 1.5 and will be removed in 1.7. From then on, it will always use 'multinomial'. Leave it to its default value to avoid this warning.\n",
      "  warnings.warn(\n"
     ]
    },
    {
     "name": "stdout",
     "output_type": "stream",
     "text": [
      "classification report (testing, weighted):\n",
      " ngram_range: (1, 3)\n",
      "               precision    recall  f1-score   support\n",
      "\n",
      "     Chinese       0.25      0.28      0.26        18\n",
      "      French       0.19      0.25      0.22        28\n",
      "      German       0.22      0.12      0.16        16\n",
      "       Greek       0.40      0.25      0.31        16\n",
      "  Portuguese       0.14      0.14      0.14        14\n",
      "     Spanish       0.26      0.28      0.27        32\n",
      "\n",
      "    accuracy                           0.23       124\n",
      "   macro avg       0.24      0.22      0.23       124\n",
      "weighted avg       0.24      0.23      0.23       124\n",
      " \n",
      "\n"
     ]
    },
    {
     "name": "stderr",
     "output_type": "stream",
     "text": [
      "/Users/anjieliu/Library/Mobile Documents/com~apple~CloudDocs/Documents/MyUT/Year3/Fall2024/LIN 371 Machine Learning for Text Analysis/LIN371_Project/.venv/lib/python3.9/site-packages/sklearn/linear_model/_logistic.py:469: ConvergenceWarning: lbfgs failed to converge (status=1):\n",
      "STOP: TOTAL NO. of ITERATIONS REACHED LIMIT.\n",
      "\n",
      "Increase the number of iterations (max_iter) or scale the data as shown in:\n",
      "    https://scikit-learn.org/stable/modules/preprocessing.html\n",
      "Please also refer to the documentation for alternative solver options:\n",
      "    https://scikit-learn.org/stable/modules/linear_model.html#logistic-regression\n",
      "  n_iter_i = _check_optimize_result(\n"
     ]
    }
   ],
   "execution_count": 228
  },
  {
   "cell_type": "markdown",
   "source": [
    "#### Testing on Reddit L2 dataset\n",
    "\n",
    "That didn't really do anything, unfortunately... so our best model right now is Logistic Regression with CountVectorizer (just unigrams) and appending the POS tag to each word. Let's test that model on the Reddit L2 dataset:"
   ],
   "metadata": {
    "id": "aRKrP1zfpFF8"
   }
  },
  {
   "metadata": {
    "ExecuteTime": {
     "end_time": "2024-12-13T17:02:06.022941Z",
     "start_time": "2024-12-13T17:02:06.012992Z"
    }
   },
   "cell_type": "code",
   "source": "reddit_sample",
   "outputs": [
    {
     "data": {
      "text/plain": [
       "                                                 comments native_language\n",
       "101073  international politics is becoming more like O...         Chinese\n",
       "286745                                        translation          German\n",
       "128155  right now your question is confusing , you put...          French\n",
       "583153                             i would love DATE fest      Portuguese\n",
       "362460  i had CARDINAL settlers in my sanctuary using ...          German\n",
       "...                                                   ...             ...\n",
       "229559  only the original one used to put it online was .          French\n",
       "454156                          it has no disadvantages .           Greek\n",
       "540374  `` actually , no , that 's not true , here 's ...      Portuguese\n",
       "68038   you give them ORG and by the time they like it...         Chinese\n",
       "673112                                     hey everyone !         Spanish\n",
       "\n",
       "[1500 rows x 2 columns]"
      ],
      "text/html": [
       "<div>\n",
       "<style scoped>\n",
       "    .dataframe tbody tr th:only-of-type {\n",
       "        vertical-align: middle;\n",
       "    }\n",
       "\n",
       "    .dataframe tbody tr th {\n",
       "        vertical-align: top;\n",
       "    }\n",
       "\n",
       "    .dataframe thead th {\n",
       "        text-align: right;\n",
       "    }\n",
       "</style>\n",
       "<table border=\"1\" class=\"dataframe\">\n",
       "  <thead>\n",
       "    <tr style=\"text-align: right;\">\n",
       "      <th></th>\n",
       "      <th>comments</th>\n",
       "      <th>native_language</th>\n",
       "    </tr>\n",
       "  </thead>\n",
       "  <tbody>\n",
       "    <tr>\n",
       "      <th>101073</th>\n",
       "      <td>international politics is becoming more like O...</td>\n",
       "      <td>Chinese</td>\n",
       "    </tr>\n",
       "    <tr>\n",
       "      <th>286745</th>\n",
       "      <td>translation</td>\n",
       "      <td>German</td>\n",
       "    </tr>\n",
       "    <tr>\n",
       "      <th>128155</th>\n",
       "      <td>right now your question is confusing , you put...</td>\n",
       "      <td>French</td>\n",
       "    </tr>\n",
       "    <tr>\n",
       "      <th>583153</th>\n",
       "      <td>i would love DATE fest</td>\n",
       "      <td>Portuguese</td>\n",
       "    </tr>\n",
       "    <tr>\n",
       "      <th>362460</th>\n",
       "      <td>i had CARDINAL settlers in my sanctuary using ...</td>\n",
       "      <td>German</td>\n",
       "    </tr>\n",
       "    <tr>\n",
       "      <th>...</th>\n",
       "      <td>...</td>\n",
       "      <td>...</td>\n",
       "    </tr>\n",
       "    <tr>\n",
       "      <th>229559</th>\n",
       "      <td>only the original one used to put it online was .</td>\n",
       "      <td>French</td>\n",
       "    </tr>\n",
       "    <tr>\n",
       "      <th>454156</th>\n",
       "      <td>it has no disadvantages .</td>\n",
       "      <td>Greek</td>\n",
       "    </tr>\n",
       "    <tr>\n",
       "      <th>540374</th>\n",
       "      <td>`` actually , no , that 's not true , here 's ...</td>\n",
       "      <td>Portuguese</td>\n",
       "    </tr>\n",
       "    <tr>\n",
       "      <th>68038</th>\n",
       "      <td>you give them ORG and by the time they like it...</td>\n",
       "      <td>Chinese</td>\n",
       "    </tr>\n",
       "    <tr>\n",
       "      <th>673112</th>\n",
       "      <td>hey everyone !</td>\n",
       "      <td>Spanish</td>\n",
       "    </tr>\n",
       "  </tbody>\n",
       "</table>\n",
       "<p>1500 rows × 2 columns</p>\n",
       "</div>"
      ]
     },
     "execution_count": 229,
     "metadata": {},
     "output_type": "execute_result"
    }
   ],
   "execution_count": 229
  },
  {
   "cell_type": "code",
   "source": [
    "reddit_tagged = reddit_sample[\"comments\"].apply(append_pos_tags)\n",
    "reddit_tagged.head()"
   ],
   "metadata": {
    "colab": {
     "base_uri": "https://localhost:8080/",
     "height": 238
    },
    "id": "YTpyaxdhpEfN",
    "outputId": "3b4ea329-37f4-4fd3-cca6-96fef3f17412",
    "ExecuteTime": {
     "end_time": "2024-12-13T17:02:06.561729Z",
     "start_time": "2024-12-13T17:02:06.088994Z"
    }
   },
   "outputs": [
    {
     "data": {
      "text/plain": [
       "101073    international_JJ politics_NNS is_VBZ becoming_...\n",
       "286745                                       translation_NN\n",
       "128155    right_RB now_RB your_PRP$ question_NN is_VBZ c...\n",
       "583153              i_NN would_MD love_VB DATE_NNP fest_JJS\n",
       "362460    i_NN had_VBD CARDINAL_NNP settlers_NNS in_IN m...\n",
       "Name: comments, dtype: object"
      ]
     },
     "execution_count": 230,
     "metadata": {},
     "output_type": "execute_result"
    }
   ],
   "execution_count": 230
  },
  {
   "cell_type": "code",
   "source": [
    "\n",
    "X_reddit_tagged = vectorizer_pos.transform(reddit_tagged)"
   ],
   "metadata": {
    "id": "2vHAyHaVsyGL",
    "ExecuteTime": {
     "end_time": "2024-12-13T17:02:06.613446Z",
     "start_time": "2024-12-13T17:02:06.601338Z"
    }
   },
   "outputs": [],
   "execution_count": 231
  },
  {
   "cell_type": "code",
   "source": "reddit_yhat = weighted_lr_model_pos.predict(X_reddit_tagged)",
   "metadata": {
    "id": "EK40Hli6tBto",
    "ExecuteTime": {
     "end_time": "2024-12-13T17:02:06.646859Z",
     "start_time": "2024-12-13T17:02:06.644419Z"
    }
   },
   "outputs": [],
   "execution_count": 232
  },
  {
   "cell_type": "code",
   "source": [
    "print(\"classification report (reddit, weighted):\\n\",\n",
    "        classification_report(reddit_sample[\"native_language\"], reddit_yhat),\"\\n\")\n",
    "\n",
    "create_cm(reddit_sample[\"native_language\"], reddit_yhat)"
   ],
   "metadata": {
    "colab": {
     "base_uri": "https://localhost:8080/",
     "height": 769
    },
    "id": "f0iJH_pHte_Q",
    "outputId": "1345b436-b247-4d8c-fd4d-b45a997ac57f",
    "ExecuteTime": {
     "end_time": "2024-12-13T17:02:06.803104Z",
     "start_time": "2024-12-13T17:02:06.663189Z"
    }
   },
   "outputs": [
    {
     "name": "stdout",
     "output_type": "stream",
     "text": [
      "classification report (reddit, weighted):\n",
      "               precision    recall  f1-score   support\n",
      "\n",
      "     Chinese       0.23      0.05      0.08       259\n",
      "      French       0.17      0.22      0.19       262\n",
      "      German       0.19      0.06      0.10       233\n",
      "       Greek       0.19      0.03      0.06       242\n",
      "  Portuguese       0.17      0.46      0.25       254\n",
      "     Spanish       0.17      0.20      0.19       250\n",
      "\n",
      "    accuracy                           0.17      1500\n",
      "   macro avg       0.19      0.17      0.14      1500\n",
      "weighted avg       0.19      0.17      0.14      1500\n",
      " \n",
      "\n"
     ]
    },
    {
     "data": {
      "text/plain": [
       "<Figure size 640x480 with 2 Axes>"
      ],
      "image/png": "[encoded data removed]"
     },
     "metadata": {},
     "output_type": "display_data"
    }
   ],
   "execution_count": 233
  },
  {
   "cell_type": "markdown",
   "source": [
    "This is predicting most things as French and/or Portuguese, but it's unclear why Portuguese is being so commonly predicted -- there are fewer Portuguese examples in the training set..."
   ],
   "metadata": {
    "id": "U58G6W71s-AH"
   }
  }
 ],
 "metadata": {
  "colab": {
   "gpuType": "T4",
   "provenance": []
  },
  "kernelspec": {
   "display_name": "Python 3 (ipykernel)",
   "name": "python3",
   "language": "python"
  },
  "language_info": {
   "name": "python"
  }
 },
 "nbformat": 4,
 "nbformat_minor": 0
}
