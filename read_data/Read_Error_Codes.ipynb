{
 "cells": [
  {
   "metadata": {
    "ExecuteTime": {
     "end_time": "2024-11-26T05:54:46.446888Z",
     "start_time": "2024-11-26T05:54:46.444558Z"
    }
   },
   "cell_type": "code",
   "source": [
    "#!pip install lxml\n",
    "#!pip install pypdf"
   ],
   "id": "a910f2d81e03446c",
   "outputs": [],
   "execution_count": 23
  },
  {
   "cell_type": "code",
   "id": "initial_id",
   "metadata": {
    "collapsed": true,
    "ExecuteTime": {
     "end_time": "2024-11-26T05:55:29.481866Z",
     "start_time": "2024-11-26T05:55:29.478323Z"
    }
   },
   "source": [
    "from pypdf import PdfReader\n",
    "import json"
   ],
   "outputs": [],
   "execution_count": 24
  },
  {
   "metadata": {},
   "cell_type": "markdown",
   "source": [
    "# Source\n",
    "https://www.cambridge.org/sketch/error_codes.html\n",
    "\n",
    "\n",
    "# Notes\n",
    "We are not directly parsing from HTML because cambridge.org denies our access.\n",
    "* Solution: save the page as PDF and read it"
   ],
   "id": "e1e4a49352455483"
  },
  {
   "metadata": {
    "ExecuteTime": {
     "end_time": "2024-11-26T05:54:22.153196Z",
     "start_time": "2024-11-26T05:54:22.115916Z"
    }
   },
   "cell_type": "code",
   "source": [
    "\"\"\"\n",
    "Read PDF of Cambridge error codes and convert to a JSON file\n",
    "\"\"\"\n",
    "# creating a pdf reader object\n",
    "reader = PdfReader(\"../raw_data/Cambridge Learner Corpus - error codes.pdf\")\n",
    "\n",
    "# printing number of pages in pdf file\n",
    "print(\"Number of Pages in the PDF:\", len(reader.pages))\n",
    "\n",
    "# creating a page object\n",
    "page = reader.pages[0]\n",
    "\n",
    "# extracting text from page\n",
    "codes = page.extract_text().split(\"\\n\")\n",
    "codes = [c for c in codes if c[0] == '#']\n",
    "codes = {c.split()[0][1:]: ' '.join(c.split()[1:]) for c in codes}\n",
    "codes"
   ],
   "id": "71c8d7a5e63a4d97",
   "outputs": [
    {
     "name": "stdout",
     "output_type": "stream",
     "text": [
      "Number of Pages in the PDF: 1\n"
     ]
    },
    {
     "data": {
      "text/plain": [
       "{'AG': 'agreement error',\n",
       " 'AGA': 'anaphor agreement error',\n",
       " 'AGD': 'determiner agreement error',\n",
       " 'AGN': 'noun agreement error',\n",
       " 'AGQ': 'quantifier agreement error',\n",
       " 'AGV': 'verb agreement error',\n",
       " 'AS': 'argument structure error',\n",
       " 'CD': 'wrong determiner because of noun countability',\n",
       " 'CE': 'complex error',\n",
       " 'CL': 'collocation or tautology error',\n",
       " 'CN': 'countability of noun error',\n",
       " 'CQ': 'wrong quantifier because of noun countability',\n",
       " 'DA': 'derivation of anaphor error',\n",
       " 'DC': 'derivation of link word error',\n",
       " 'DD': 'derivation of determiner error',\n",
       " 'DI': 'incorrect determiner inflection',\n",
       " 'DJ': 'derivation of adjective error',\n",
       " 'DN': 'derivation of noun error',\n",
       " 'DQ': 'derivation of quantifier error',\n",
       " 'DT': 'derivation of preposition error',\n",
       " 'DV': 'derivation of verb error',\n",
       " 'DY': 'derivation of adverb error',\n",
       " 'FA': 'wrong anaphor form',\n",
       " 'FD': 'incorrect determiner form',\n",
       " 'FJ': 'wrong adjective form',\n",
       " 'FN': 'wrong noun form',\n",
       " 'FQ': 'wrong quantifier form',\n",
       " 'FV': 'wrong verb form',\n",
       " 'FY': 'wrong adverb form',\n",
       " 'IA': 'incorrect anaphor inflection',\n",
       " 'ID': 'idiom wrong',\n",
       " 'IJ': 'incorrect adjective inflection',\n",
       " 'IN': 'incorrect noun inflection',\n",
       " 'IQ': 'incorrect quantifier inflection',\n",
       " 'IV': 'incorrect verb inflection',\n",
       " 'IY': 'incorrect adverb inflection',\n",
       " 'L': 'inappropriate register',\n",
       " 'M': 'missing error',\n",
       " 'MA': 'missing anaphor',\n",
       " 'MC': 'missing link word',\n",
       " 'MD': 'missing determiner',\n",
       " 'MJ': 'missing adjective',\n",
       " 'MN': 'missing noun',\n",
       " 'MP': 'missing punctuation',\n",
       " 'MQ': 'missing quantifier',\n",
       " 'MT': 'missing preposition',\n",
       " 'MV': 'missing verb',\n",
       " 'MY': 'missing adverb',\n",
       " 'R': 'replace error',\n",
       " 'RA': 'replace anaphor',\n",
       " 'RC': 'replace link word',\n",
       " 'RD': 'replace determiner',\n",
       " 'RJ': 'replace adjective',\n",
       " 'RN': 'replace noun',\n",
       " 'RP': 'replace punctuation',\n",
       " 'RQ': 'replace quantifier',\n",
       " 'RT': 'replace preposition',\n",
       " 'RV': 'replace verb',\n",
       " 'RY': 'replace adverb',\n",
       " 'S': 'spelling error',\n",
       " 'SA': 'spelling American',\n",
       " 'SX': 'spelling confusion',\n",
       " 'TV': 'incorrect tense of verb',\n",
       " 'U': 'unnecessary error',\n",
       " 'UA': 'unnecessary anaphor',\n",
       " 'UC': 'unnecessary link word',\n",
       " 'UD': 'unnecessary determiner',\n",
       " 'UJ': 'unnecessary adjective',\n",
       " 'UN': 'unnecessary noun',\n",
       " 'UP': 'unnecessary punctuation',\n",
       " 'UQ': 'unnecessary quantifier',\n",
       " 'UT': 'unnecessary preposition',\n",
       " 'UV': 'unnecessary verb',\n",
       " 'UY': 'unnecessary adverb',\n",
       " 'W': 'word order error',\n",
       " 'X': 'incorrect negative formation'}"
      ]
     },
     "execution_count": 22,
     "metadata": {},
     "output_type": "execute_result"
    }
   ],
   "execution_count": 22
  },
  {
   "metadata": {
    "ExecuteTime": {
     "end_time": "2024-11-26T05:55:54.936571Z",
     "start_time": "2024-11-26T05:55:54.934359Z"
    }
   },
   "cell_type": "code",
   "source": [
    "\"\"\"\n",
    "Export dictionary to JSOn file.\n",
    "\"\"\"\n",
    "with open(\"../data/error_codes.json\", \"w\") as outfile:\n",
    "    json.dump(codes, outfile)"
   ],
   "id": "7041544448ee3126",
   "outputs": [],
   "execution_count": 26
  }
 ],
 "metadata": {
  "kernelspec": {
   "display_name": "Python 3",
   "language": "python",
   "name": "python3"
  },
  "language_info": {
   "codemirror_mode": {
    "name": "ipython",
    "version": 2
   },
   "file_extension": ".py",
   "mimetype": "text/x-python",
   "name": "python",
   "nbconvert_exporter": "python",
   "pygments_lexer": "ipython2",
   "version": "2.7.6"
  }
 },
 "nbformat": 4,
 "nbformat_minor": 5
}
